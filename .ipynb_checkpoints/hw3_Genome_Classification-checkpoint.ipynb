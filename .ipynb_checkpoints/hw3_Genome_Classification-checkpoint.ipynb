{
 "cells": [
  {
   "cell_type": "code",
   "execution_count": 50,
   "metadata": {
    "id": "aypP6S5sKfMQ"
   },
   "outputs": [],
   "source": [
    "import numpy as np\n",
    "%tensorflow_version 2.x\n",
    "import tensorflow as tf\n",
    "import tensorflow_datasets as tfds"
   ]
  },
  {
   "cell_type": "markdown",
   "metadata": {
    "id": "t2Sv_-9itW_M"
   },
   "source": [
    "Function for turning tensor string into a one-hot vector "
   ]
  },
  {
   "cell_type": "code",
   "execution_count": 51,
   "metadata": {
    "id": "qxtiXO5VZQus"
   },
   "outputs": [],
   "source": [
    "def string_to_one_hot(strg):\n",
    "  vocab = {'A':'1', 'C': '2', 'G':'3', 'T':'0'}\n",
    "  \n",
    "  for key in vocab.keys(): #'ACTG' #'1230'\n",
    "    strg = tf.strings.regex_replace(strg, key, rewrite = vocab[key])\n",
    "    #strg = tf.strings.regex_replace(strg, pattern = 'A', rewrite = 1, replace_global = True)\n",
    "  #strg = tf.strings.regex_replace(strg, pattern = \"C\", rewrite = 2, replace_global = True)\n",
    "  #strg = tf.strings.regex_replace(strg, pattern = 'T', rewrite = 3, replace_global = True\n",
    "  split = tf.strings.bytes_split(strg)\n",
    "  labels = tf.cast(tf.strings.to_number(split), tf.uint8)\n",
    "  onehot = tf.one_hot(labels, 4)\n",
    "  onehot = tf.reshape(onehot, (-1,)) #e.g. [0001]\n",
    "  return onehot"
   ]
  },
  {
   "cell_type": "markdown",
   "metadata": {
    "id": "aMJLx1-ULxin"
   },
   "source": [
    "Load the Data-Set"
   ]
  },
  {
   "cell_type": "code",
   "execution_count": 52,
   "metadata": {
    "id": "GsQO5nbwr5BO"
   },
   "outputs": [],
   "source": [
    "test_data, training_data = tfds.load('genomics_ood', as_supervised = True, split = ['test[0:1000]', 'train[0:100000]'])\n"
   ]
  },
  {
   "cell_type": "code",
   "execution_count": 53,
   "metadata": {
    "id": "e8GheLh9KoI-"
   },
   "outputs": [],
   "source": [
    "#Pipeline \n",
    "#First transform the string.tensors and numbers to one_hot_encodings\n",
    "# i.e. the sequence \"ATG\" will be translated to a sequence of vectors similar to [0001][0010][0100]\n",
    "training_data = training_data.map(lambda seq, label: (string_to_one_hot(seq), tf.one_hot(label, 10)))\n",
    "\n",
    "#batch the data into smaller processable chunks\n",
    "training_data = training_data.batch(128)\n",
    "#shuffle the data\n",
    "training_data = training_data.shuffle(buffer_size=128)\n",
    "#always prepare some data while working on the last set (better performance)\n",
    "training_data = training_data.prefetch(20)\n",
    "\n",
    "#repeat the same processing steps for the test data\n",
    "test_data = test_data.map(lambda seq, label: (string_to_one_hot(seq), tf.one_hot(label, 10)))\n",
    "test_data = test_data.batch(128)\n",
    "test_data = test_data.shuffle(buffer_size=128)\n",
    "test_data = test_data.prefetch(20)\n"
   ]
  },
  {
   "cell_type": "markdown",
   "metadata": {
    "id": "fLzw-EbhzOcx"
   },
   "source": [
    "The Model\n"
   ]
  },
  {
   "cell_type": "code",
   "execution_count": 54,
   "metadata": {
    "id": "v-v0G5rrzP_K"
   },
   "outputs": [],
   "source": [
    "from tensorflow.keras.models import Model\n",
    "from tensorflow.keras.layers import Layer\n",
    "\n",
    "# here we create our model/ network. The model is a callable object\n",
    "class Model(Model):\n",
    "  def __init__(self):\n",
    "    #we call the super class so that our model inherits nice functions\n",
    "    super(Model,self).__init__()\n",
    "\n",
    "    # create the hidden layers with 256 neurons and sigmoid as activation fuction\n",
    "    self.hidden_layer_1 = tf.keras.layers.Dense(units=256, activation=tf.keras.activations.sigmoid)\n",
    "    self.hidden_layer_2 = tf.keras.layers.Dense(units=256, activation=tf.keras.activations.sigmoid)\n",
    "\n",
    "    # create output layer with 10 eurons and softmax as activation function\n",
    "    self.output_layer = tf.keras.layers.Dense(units=10, activation = tf.keras.activations.softmax)\n",
    "\n",
    "# the call function is the forward step where we propagate the input through the network to get a prediction (output)\n",
    "  def call(self, input):\n",
    "    input = self.hidden_layer_1(input)\n",
    "    input = self.hidden_layer_2(input)\n",
    "    input = self.output_layer(input)\n",
    "    return input"
   ]
  },
  {
   "cell_type": "markdown",
   "metadata": {
    "id": "2bLWIwBm12tg"
   },
   "source": [
    "Training"
   ]
  },
  {
   "cell_type": "code",
   "execution_count": 55,
   "metadata": {
    "id": "h98S9Ipf15pG"
   },
   "outputs": [],
   "source": [
    "def train_step(model, input, target, loss_function, optimizer):\n",
    "  # write a custom training loop\n",
    "  # allows for automatic differentiation: automatically computes the derivative of a function\n",
    "  # by repeatedly applying the chain rule\n",
    "  with tf.GradientTape() as tape:\n",
    "    # first: make a prediction based on model and loss\n",
    "    prediction = model(input)\n",
    "    # compute the loss given the prediction and the target\n",
    "    loss = loss_function(target, prediction)\n",
    "    # As we already have the prediction, we can calculate the accuracy for the training sample\n",
    "    sample_accuracy =  np.argmax(target, axis=1) == np.argmax(prediction, axis=1)\n",
    "    # now we need the partial deriatives of the loss with respect to all the weights\n",
    "    # this is where gradienttape comes in handy and allows for easy computation of all the partial derivatives\n",
    "    gradients = tape.gradient(loss, model.trainable_variables)\n",
    "  # last we apply the computed weight updates\n",
    "  optimizer.apply_gradients(zip(gradients, model.trainable_variables))\n",
    "\n",
    "  # return the loss and the mean of the accurrecies\n",
    "  return loss, np.mean(sample_accuracy)"
   ]
  },
  {
   "cell_type": "markdown",
   "metadata": {
    "id": "HyWds2EsugDk"
   },
   "source": [
    "Testing\n"
   ]
  },
  {
   "cell_type": "code",
   "execution_count": 56,
   "metadata": {
    "id": "xjTvD06kuioG"
   },
   "outputs": [],
   "source": [
    "def test(model, test_data, loss_function):\n",
    "  # testing the performance of the model on the test data\n",
    "  # calculate the prediction loss via the respective loss function and the accuracy of the prediction.\n",
    "\n",
    "  # initialize lists for saving the losses and accuracies of the model for each sample in the test data\n",
    "  test_losses = []\n",
    "  test_accuracies = []\n",
    "    \n",
    "  # iterate through the test data batches\n",
    "  for (input, target) in test_data:\n",
    "    # calculate what labels the model predicts for the current input\n",
    "    prediction = model(input)\n",
    "    # calculate the loss\n",
    "    computed_loss = loss_function(prediction, target)\n",
    "    # check if the labels predicted for the batch match with the correct target-labels\n",
    "    sample_test_accuracy =  np.argmax(target, axis=1) == np.argmax(prediction, axis=1)\n",
    "    # save the loss\n",
    "    test_losses.append(computed_loss.numpy())\n",
    "    # save the mean of the correct label predictions\n",
    "    test_accuracies.append(np.mean(sample_test_accuracy))\n",
    "\n",
    "  # calculate the mean of all the losses and accuracies\n",
    "  test_loss = np.mean(test_losses)\n",
    "  test_accuracy = np.mean(test_accuracies)\n",
    "  return test_loss, test_accuracy\n"
   ]
  },
  {
   "cell_type": "markdown",
   "metadata": {
    "id": "wVZzA7NVuP4i"
   },
   "source": [
    "Initialization"
   ]
  },
  {
   "cell_type": "code",
   "execution_count": null,
   "metadata": {
    "id": "XqBYybUyuO5-"
   },
   "outputs": [],
   "source": [
    "#tf.keras.backend.clear_session()\n",
    "\n",
    "#Initialize model\n",
    "model = Model()\n",
    "\n",
    "#hyperparameters\n",
    "epochs = 10\n",
    "learning_rate = 0.1\n",
    "running_average_factor = 0.95\n",
    "\n",
    "# Initialize the loss as categorical cross entropy.\n",
    "loss = tf.keras.losses.CategoricalCrossentropy()\n",
    "# Initialialise the optimizer as standard gradient descent\n",
    "optimizer = tf.keras.optimizers.SGD(learning_rate)\n",
    "\n",
    "# To keep track of the processes, we use several lists. So we can plot the results later.\n",
    "train_losses = []\n",
    "sample_accuracies = []\n",
    "train_accuracies = []\n",
    "\n",
    "test_losses = []\n",
    "test_accuracies = []\n",
    "\n",
    "# testing how the model performs on the test data without training\n",
    "test_loss, test_accuracy = test(model, test_data, loss)\n",
    "# saving the results in the respecting lists\n",
    "test_losses.append(test_loss)\n",
    "test_accuracies.append(test_accuracy)\n",
    "\n",
    "# same for the training data, in oder to see how it improves from an untrained state\n",
    "train_loss, train_accuracy = test(model, training_data, loss)\n",
    "train_losses.append(train_loss)\n",
    "train_accuracies.append(train_accuracy)\n",
    "\n",
    "# Iterating over the epochs and for training the model\n",
    "for epoch in range(epochs):\n",
    "  print(\"----------------------------------------------------------\", '\\n', \"Epoch nr.\", epoch)\n",
    "\n",
    "  # shuffle the datasets\n",
    "  training_data = training_data.shuffle(buffer_size=128)\n",
    "  test_data = test_data.shuffle(buffer_size=128)\n",
    "\n",
    "  # to save the running average of the loss of all training samples\n",
    "  running_average = 0\n",
    "  # interate over the training data and compute the training loss for every input-label pair\n",
    "  for (input, label) in training_data:\n",
    "    # perform the raining step with the current input and label\n",
    "    train_loss, train_accuracy = train_step(model, input, label, loss, optimizer)\n",
    "    # sum the loss\n",
    "    running_average = running_average_factor * running_average + (1 - running_average_factor) * train_loss\n",
    "    # save the accuracy of the predictions in this batch\n",
    "    sample_accuracies.append(train_accuracy)\n",
    "\n",
    "  # save the training loss and the accuracy of the current epoch\n",
    "  train_losses.append(running_average)\n",
    "  train_accuracy = np.mean(sample_accuracies)\n",
    "  train_accuracies.append(train_accuracy)\n",
    "\n",
    "  # now evaluate the model performance on test set and save the results in the respecting lists\n",
    "  test_loss, test_accuracy = test(model, test_data, loss)\n",
    "  test_losses.append(test_loss)\n",
    "  test_accuracies.append(test_accuracy)\n",
    "\n",
    "  # Keeping of performance for each epoch\n",
    "  print(\"Training accuracy: \", train_accuracy, \"| Training loss: \", running_average.numpy())\n",
    "  print(\"Test accuracy: \", test_accuracy, \"| Test loss: \", test_loss)\n"
   ]
  },
  {
   "cell_type": "markdown",
   "metadata": {
    "id": "alSwg5nc198X"
   },
   "source": [
    "Visualization"
   ]
  },
  {
   "cell_type": "code",
   "execution_count": null,
   "metadata": {
    "id": "R-ix7rpT1_Mm"
   },
   "outputs": [],
   "source": [
    "import matplotlib.pyplot as plt\n",
    "\n",
    "#do the visualization\n",
    "#test loss and training loss\n",
    "plt.figure()\n",
    "line1, = plt.plot(train_losses)\n",
    "line2, = plt.plot(test_losses)\n",
    "plt.xlabel(\"Training steps\")\n",
    "plt.ylabel(\"Loss\")\n",
    "plt.legend((line1,line2),(\"training\",\"test\"))\n",
    "plt.show()"
   ]
  },
  {
   "cell_type": "code",
   "execution_count": null,
   "metadata": {
    "id": "FijhoZxRsEfV"
   },
   "outputs": [],
   "source": [
    "#test accuracy and training accuracy\n",
    "plt.figure()\n",
    "line1, plt.plot(train_accuracies)\n",
    "line2, plt.plot(test_accuracies)\n",
    "plt.xlabel(\"Training steps\")\n",
    "plt.ylabel(\"Accuracy\")\n",
    "plt.legend((line1,line2),(\"training\",\"test\"))\n",
    "plt.show()\n",
    "\n"
   ]
  }
 ],
 "metadata": {
  "accelerator": "GPU",
  "colab": {
   "collapsed_sections": [],
   "name": "hw3_Genome_Classification.ipynb",
   "provenance": []
  },
  "kernelspec": {
   "display_name": "Python 3",
   "language": "python",
   "name": "python3"
  },
  "language_info": {
   "codemirror_mode": {
    "name": "ipython",
    "version": 3
   },
   "file_extension": ".py",
   "mimetype": "text/x-python",
   "name": "python",
   "nbconvert_exporter": "python",
   "pygments_lexer": "ipython3",
   "version": "3.7.9"
  }
 },
 "nbformat": 4,
 "nbformat_minor": 1
}
