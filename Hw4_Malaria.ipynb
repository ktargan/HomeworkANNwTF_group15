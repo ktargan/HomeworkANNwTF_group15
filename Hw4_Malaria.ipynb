{
  "nbformat": 4,
  "nbformat_minor": 0,
  "metadata": {
    "colab": {
      "name": "Hw4_Malaria.ipynb",
      "provenance": [],
      "collapsed_sections": []
    },
    "kernelspec": {
      "display_name": "Python 3",
      "name": "python3"
    },
    "accelerator": "GPU",
    "widgets": {
      "application/vnd.jupyter.widget-state+json": {
        "7487460b951a49de8f42fc159ca1dee4": {
          "model_module": "@jupyter-widgets/controls",
          "model_name": "HBoxModel",
          "state": {
            "_view_name": "HBoxView",
            "_dom_classes": [],
            "_model_name": "HBoxModel",
            "_view_module": "@jupyter-widgets/controls",
            "_model_module_version": "1.5.0",
            "_view_count": null,
            "_view_module_version": "1.5.0",
            "box_style": "",
            "layout": "IPY_MODEL_21345ce7e50b4f4cb30e72e1bc0dffeb",
            "_model_module": "@jupyter-widgets/controls",
            "children": [
              "IPY_MODEL_53afd09ec795475fa02c715ef97d65d7",
              "IPY_MODEL_0426eabfdc3242e7b59e9fdb514bce16"
            ]
          }
        },
        "21345ce7e50b4f4cb30e72e1bc0dffeb": {
          "model_module": "@jupyter-widgets/base",
          "model_name": "LayoutModel",
          "state": {
            "_view_name": "LayoutView",
            "grid_template_rows": null,
            "right": null,
            "justify_content": null,
            "_view_module": "@jupyter-widgets/base",
            "overflow": null,
            "_model_module_version": "1.2.0",
            "_view_count": null,
            "flex_flow": null,
            "width": null,
            "min_width": null,
            "border": null,
            "align_items": null,
            "bottom": null,
            "_model_module": "@jupyter-widgets/base",
            "top": null,
            "grid_column": null,
            "overflow_y": null,
            "overflow_x": null,
            "grid_auto_flow": null,
            "grid_area": null,
            "grid_template_columns": null,
            "flex": null,
            "_model_name": "LayoutModel",
            "justify_items": null,
            "grid_row": null,
            "max_height": null,
            "align_content": null,
            "visibility": null,
            "align_self": null,
            "height": null,
            "min_height": null,
            "padding": null,
            "grid_auto_rows": null,
            "grid_gap": null,
            "max_width": null,
            "order": null,
            "_view_module_version": "1.2.0",
            "grid_template_areas": null,
            "object_position": null,
            "object_fit": null,
            "grid_auto_columns": null,
            "margin": null,
            "display": null,
            "left": null
          }
        },
        "53afd09ec795475fa02c715ef97d65d7": {
          "model_module": "@jupyter-widgets/controls",
          "model_name": "FloatProgressModel",
          "state": {
            "_view_name": "ProgressView",
            "style": "IPY_MODEL_f5474188006c4fbaa4cbe13229b06f27",
            "_dom_classes": [],
            "description": "Dl Completed...: 100%",
            "_model_name": "FloatProgressModel",
            "bar_style": "success",
            "max": 1,
            "_view_module": "@jupyter-widgets/controls",
            "_model_module_version": "1.5.0",
            "value": 1,
            "_view_count": null,
            "_view_module_version": "1.5.0",
            "orientation": "horizontal",
            "min": 0,
            "description_tooltip": null,
            "_model_module": "@jupyter-widgets/controls",
            "layout": "IPY_MODEL_c55648d3a6e44ea1b2e3cb21838a3085"
          }
        },
        "0426eabfdc3242e7b59e9fdb514bce16": {
          "model_module": "@jupyter-widgets/controls",
          "model_name": "HTMLModel",
          "state": {
            "_view_name": "HTMLView",
            "style": "IPY_MODEL_2f10fe80ab2a49aab78bfc132db3a973",
            "_dom_classes": [],
            "description": "",
            "_model_name": "HTMLModel",
            "placeholder": "​",
            "_view_module": "@jupyter-widgets/controls",
            "_model_module_version": "1.5.0",
            "value": " 1/1 [00:10&lt;00:00, 10.22s/ url]",
            "_view_count": null,
            "_view_module_version": "1.5.0",
            "description_tooltip": null,
            "_model_module": "@jupyter-widgets/controls",
            "layout": "IPY_MODEL_96d1f189660b4a6db157ed0b78b015af"
          }
        },
        "f5474188006c4fbaa4cbe13229b06f27": {
          "model_module": "@jupyter-widgets/controls",
          "model_name": "ProgressStyleModel",
          "state": {
            "_view_name": "StyleView",
            "_model_name": "ProgressStyleModel",
            "description_width": "initial",
            "_view_module": "@jupyter-widgets/base",
            "_model_module_version": "1.5.0",
            "_view_count": null,
            "_view_module_version": "1.2.0",
            "bar_color": null,
            "_model_module": "@jupyter-widgets/controls"
          }
        },
        "c55648d3a6e44ea1b2e3cb21838a3085": {
          "model_module": "@jupyter-widgets/base",
          "model_name": "LayoutModel",
          "state": {
            "_view_name": "LayoutView",
            "grid_template_rows": null,
            "right": null,
            "justify_content": null,
            "_view_module": "@jupyter-widgets/base",
            "overflow": null,
            "_model_module_version": "1.2.0",
            "_view_count": null,
            "flex_flow": null,
            "width": null,
            "min_width": null,
            "border": null,
            "align_items": null,
            "bottom": null,
            "_model_module": "@jupyter-widgets/base",
            "top": null,
            "grid_column": null,
            "overflow_y": null,
            "overflow_x": null,
            "grid_auto_flow": null,
            "grid_area": null,
            "grid_template_columns": null,
            "flex": null,
            "_model_name": "LayoutModel",
            "justify_items": null,
            "grid_row": null,
            "max_height": null,
            "align_content": null,
            "visibility": null,
            "align_self": null,
            "height": null,
            "min_height": null,
            "padding": null,
            "grid_auto_rows": null,
            "grid_gap": null,
            "max_width": null,
            "order": null,
            "_view_module_version": "1.2.0",
            "grid_template_areas": null,
            "object_position": null,
            "object_fit": null,
            "grid_auto_columns": null,
            "margin": null,
            "display": null,
            "left": null
          }
        },
        "2f10fe80ab2a49aab78bfc132db3a973": {
          "model_module": "@jupyter-widgets/controls",
          "model_name": "DescriptionStyleModel",
          "state": {
            "_view_name": "StyleView",
            "_model_name": "DescriptionStyleModel",
            "description_width": "",
            "_view_module": "@jupyter-widgets/base",
            "_model_module_version": "1.5.0",
            "_view_count": null,
            "_view_module_version": "1.2.0",
            "_model_module": "@jupyter-widgets/controls"
          }
        },
        "96d1f189660b4a6db157ed0b78b015af": {
          "model_module": "@jupyter-widgets/base",
          "model_name": "LayoutModel",
          "state": {
            "_view_name": "LayoutView",
            "grid_template_rows": null,
            "right": null,
            "justify_content": null,
            "_view_module": "@jupyter-widgets/base",
            "overflow": null,
            "_model_module_version": "1.2.0",
            "_view_count": null,
            "flex_flow": null,
            "width": null,
            "min_width": null,
            "border": null,
            "align_items": null,
            "bottom": null,
            "_model_module": "@jupyter-widgets/base",
            "top": null,
            "grid_column": null,
            "overflow_y": null,
            "overflow_x": null,
            "grid_auto_flow": null,
            "grid_area": null,
            "grid_template_columns": null,
            "flex": null,
            "_model_name": "LayoutModel",
            "justify_items": null,
            "grid_row": null,
            "max_height": null,
            "align_content": null,
            "visibility": null,
            "align_self": null,
            "height": null,
            "min_height": null,
            "padding": null,
            "grid_auto_rows": null,
            "grid_gap": null,
            "max_width": null,
            "order": null,
            "_view_module_version": "1.2.0",
            "grid_template_areas": null,
            "object_position": null,
            "object_fit": null,
            "grid_auto_columns": null,
            "margin": null,
            "display": null,
            "left": null
          }
        },
        "c4269b09b62f455a91611fd4daaa15f2": {
          "model_module": "@jupyter-widgets/controls",
          "model_name": "HBoxModel",
          "state": {
            "_view_name": "HBoxView",
            "_dom_classes": [],
            "_model_name": "HBoxModel",
            "_view_module": "@jupyter-widgets/controls",
            "_model_module_version": "1.5.0",
            "_view_count": null,
            "_view_module_version": "1.5.0",
            "box_style": "",
            "layout": "IPY_MODEL_cff672046d8840498bfb155c3b4fb110",
            "_model_module": "@jupyter-widgets/controls",
            "children": [
              "IPY_MODEL_8dc6e7cf180247719904e1990b12326f",
              "IPY_MODEL_083a821d58a9464bbb9a62bb917e5061"
            ]
          }
        },
        "cff672046d8840498bfb155c3b4fb110": {
          "model_module": "@jupyter-widgets/base",
          "model_name": "LayoutModel",
          "state": {
            "_view_name": "LayoutView",
            "grid_template_rows": null,
            "right": null,
            "justify_content": null,
            "_view_module": "@jupyter-widgets/base",
            "overflow": null,
            "_model_module_version": "1.2.0",
            "_view_count": null,
            "flex_flow": null,
            "width": null,
            "min_width": null,
            "border": null,
            "align_items": null,
            "bottom": null,
            "_model_module": "@jupyter-widgets/base",
            "top": null,
            "grid_column": null,
            "overflow_y": null,
            "overflow_x": null,
            "grid_auto_flow": null,
            "grid_area": null,
            "grid_template_columns": null,
            "flex": null,
            "_model_name": "LayoutModel",
            "justify_items": null,
            "grid_row": null,
            "max_height": null,
            "align_content": null,
            "visibility": null,
            "align_self": null,
            "height": null,
            "min_height": null,
            "padding": null,
            "grid_auto_rows": null,
            "grid_gap": null,
            "max_width": null,
            "order": null,
            "_view_module_version": "1.2.0",
            "grid_template_areas": null,
            "object_position": null,
            "object_fit": null,
            "grid_auto_columns": null,
            "margin": null,
            "display": null,
            "left": null
          }
        },
        "8dc6e7cf180247719904e1990b12326f": {
          "model_module": "@jupyter-widgets/controls",
          "model_name": "FloatProgressModel",
          "state": {
            "_view_name": "ProgressView",
            "style": "IPY_MODEL_2dc6a86536874168bb094705f997da7c",
            "_dom_classes": [],
            "description": "Dl Size...: 100%",
            "_model_name": "FloatProgressModel",
            "bar_style": "success",
            "max": 1,
            "_view_module": "@jupyter-widgets/controls",
            "_model_module_version": "1.5.0",
            "value": 1,
            "_view_count": null,
            "_view_module_version": "1.5.0",
            "orientation": "horizontal",
            "min": 0,
            "description_tooltip": null,
            "_model_module": "@jupyter-widgets/controls",
            "layout": "IPY_MODEL_b0cb96fd445a4d8d9f8a14c0a83b851a"
          }
        },
        "083a821d58a9464bbb9a62bb917e5061": {
          "model_module": "@jupyter-widgets/controls",
          "model_name": "HTMLModel",
          "state": {
            "_view_name": "HTMLView",
            "style": "IPY_MODEL_cd972c4b1f234d8daa99455714514684",
            "_dom_classes": [],
            "description": "",
            "_model_name": "HTMLModel",
            "placeholder": "​",
            "_view_module": "@jupyter-widgets/controls",
            "_model_module_version": "1.5.0",
            "value": " 337/337 [00:10&lt;00:00, 33.06 MiB/s]",
            "_view_count": null,
            "_view_module_version": "1.5.0",
            "description_tooltip": null,
            "_model_module": "@jupyter-widgets/controls",
            "layout": "IPY_MODEL_5806348ae0e84f73ae70f17eba067061"
          }
        },
        "2dc6a86536874168bb094705f997da7c": {
          "model_module": "@jupyter-widgets/controls",
          "model_name": "ProgressStyleModel",
          "state": {
            "_view_name": "StyleView",
            "_model_name": "ProgressStyleModel",
            "description_width": "initial",
            "_view_module": "@jupyter-widgets/base",
            "_model_module_version": "1.5.0",
            "_view_count": null,
            "_view_module_version": "1.2.0",
            "bar_color": null,
            "_model_module": "@jupyter-widgets/controls"
          }
        },
        "b0cb96fd445a4d8d9f8a14c0a83b851a": {
          "model_module": "@jupyter-widgets/base",
          "model_name": "LayoutModel",
          "state": {
            "_view_name": "LayoutView",
            "grid_template_rows": null,
            "right": null,
            "justify_content": null,
            "_view_module": "@jupyter-widgets/base",
            "overflow": null,
            "_model_module_version": "1.2.0",
            "_view_count": null,
            "flex_flow": null,
            "width": null,
            "min_width": null,
            "border": null,
            "align_items": null,
            "bottom": null,
            "_model_module": "@jupyter-widgets/base",
            "top": null,
            "grid_column": null,
            "overflow_y": null,
            "overflow_x": null,
            "grid_auto_flow": null,
            "grid_area": null,
            "grid_template_columns": null,
            "flex": null,
            "_model_name": "LayoutModel",
            "justify_items": null,
            "grid_row": null,
            "max_height": null,
            "align_content": null,
            "visibility": null,
            "align_self": null,
            "height": null,
            "min_height": null,
            "padding": null,
            "grid_auto_rows": null,
            "grid_gap": null,
            "max_width": null,
            "order": null,
            "_view_module_version": "1.2.0",
            "grid_template_areas": null,
            "object_position": null,
            "object_fit": null,
            "grid_auto_columns": null,
            "margin": null,
            "display": null,
            "left": null
          }
        },
        "cd972c4b1f234d8daa99455714514684": {
          "model_module": "@jupyter-widgets/controls",
          "model_name": "DescriptionStyleModel",
          "state": {
            "_view_name": "StyleView",
            "_model_name": "DescriptionStyleModel",
            "description_width": "",
            "_view_module": "@jupyter-widgets/base",
            "_model_module_version": "1.5.0",
            "_view_count": null,
            "_view_module_version": "1.2.0",
            "_model_module": "@jupyter-widgets/controls"
          }
        },
        "5806348ae0e84f73ae70f17eba067061": {
          "model_module": "@jupyter-widgets/base",
          "model_name": "LayoutModel",
          "state": {
            "_view_name": "LayoutView",
            "grid_template_rows": null,
            "right": null,
            "justify_content": null,
            "_view_module": "@jupyter-widgets/base",
            "overflow": null,
            "_model_module_version": "1.2.0",
            "_view_count": null,
            "flex_flow": null,
            "width": null,
            "min_width": null,
            "border": null,
            "align_items": null,
            "bottom": null,
            "_model_module": "@jupyter-widgets/base",
            "top": null,
            "grid_column": null,
            "overflow_y": null,
            "overflow_x": null,
            "grid_auto_flow": null,
            "grid_area": null,
            "grid_template_columns": null,
            "flex": null,
            "_model_name": "LayoutModel",
            "justify_items": null,
            "grid_row": null,
            "max_height": null,
            "align_content": null,
            "visibility": null,
            "align_self": null,
            "height": null,
            "min_height": null,
            "padding": null,
            "grid_auto_rows": null,
            "grid_gap": null,
            "max_width": null,
            "order": null,
            "_view_module_version": "1.2.0",
            "grid_template_areas": null,
            "object_position": null,
            "object_fit": null,
            "grid_auto_columns": null,
            "margin": null,
            "display": null,
            "left": null
          }
        },
        "9b05f34d78744d76aae66782c320198e": {
          "model_module": "@jupyter-widgets/controls",
          "model_name": "HBoxModel",
          "state": {
            "_view_name": "HBoxView",
            "_dom_classes": [],
            "_model_name": "HBoxModel",
            "_view_module": "@jupyter-widgets/controls",
            "_model_module_version": "1.5.0",
            "_view_count": null,
            "_view_module_version": "1.5.0",
            "box_style": "",
            "layout": "IPY_MODEL_b3066c8f696448da98690dbd39d3080c",
            "_model_module": "@jupyter-widgets/controls",
            "children": [
              "IPY_MODEL_707dc9e59f61446ab3860ee14f4c2977",
              "IPY_MODEL_427e51ffbfa1471494d6319dd815bab6"
            ]
          }
        },
        "b3066c8f696448da98690dbd39d3080c": {
          "model_module": "@jupyter-widgets/base",
          "model_name": "LayoutModel",
          "state": {
            "_view_name": "LayoutView",
            "grid_template_rows": null,
            "right": null,
            "justify_content": null,
            "_view_module": "@jupyter-widgets/base",
            "overflow": null,
            "_model_module_version": "1.2.0",
            "_view_count": null,
            "flex_flow": null,
            "width": null,
            "min_width": null,
            "border": null,
            "align_items": null,
            "bottom": null,
            "_model_module": "@jupyter-widgets/base",
            "top": null,
            "grid_column": null,
            "overflow_y": null,
            "overflow_x": null,
            "grid_auto_flow": null,
            "grid_area": null,
            "grid_template_columns": null,
            "flex": null,
            "_model_name": "LayoutModel",
            "justify_items": null,
            "grid_row": null,
            "max_height": null,
            "align_content": null,
            "visibility": null,
            "align_self": null,
            "height": null,
            "min_height": null,
            "padding": null,
            "grid_auto_rows": null,
            "grid_gap": null,
            "max_width": null,
            "order": null,
            "_view_module_version": "1.2.0",
            "grid_template_areas": null,
            "object_position": null,
            "object_fit": null,
            "grid_auto_columns": null,
            "margin": null,
            "display": null,
            "left": null
          }
        },
        "707dc9e59f61446ab3860ee14f4c2977": {
          "model_module": "@jupyter-widgets/controls",
          "model_name": "FloatProgressModel",
          "state": {
            "_view_name": "ProgressView",
            "style": "IPY_MODEL_98326e54c5b14023927f27700c6c96f3",
            "_dom_classes": [],
            "description": "Extraction completed...: 100%",
            "_model_name": "FloatProgressModel",
            "bar_style": "success",
            "max": 1,
            "_view_module": "@jupyter-widgets/controls",
            "_model_module_version": "1.5.0",
            "value": 1,
            "_view_count": null,
            "_view_module_version": "1.5.0",
            "orientation": "horizontal",
            "min": 0,
            "description_tooltip": null,
            "_model_module": "@jupyter-widgets/controls",
            "layout": "IPY_MODEL_64221eafb57c45c9b2732c3cd1a43a2d"
          }
        },
        "427e51ffbfa1471494d6319dd815bab6": {
          "model_module": "@jupyter-widgets/controls",
          "model_name": "HTMLModel",
          "state": {
            "_view_name": "HTMLView",
            "style": "IPY_MODEL_3b8cac00fd274af99464b582edadad85",
            "_dom_classes": [],
            "description": "",
            "_model_name": "HTMLModel",
            "placeholder": "​",
            "_view_module": "@jupyter-widgets/controls",
            "_model_module_version": "1.5.0",
            "value": " 1/1 [00:10&lt;00:00, 10.15s/ file]",
            "_view_count": null,
            "_view_module_version": "1.5.0",
            "description_tooltip": null,
            "_model_module": "@jupyter-widgets/controls",
            "layout": "IPY_MODEL_d8927b3e30fa4bdbbe33764bf6ab383b"
          }
        },
        "98326e54c5b14023927f27700c6c96f3": {
          "model_module": "@jupyter-widgets/controls",
          "model_name": "ProgressStyleModel",
          "state": {
            "_view_name": "StyleView",
            "_model_name": "ProgressStyleModel",
            "description_width": "initial",
            "_view_module": "@jupyter-widgets/base",
            "_model_module_version": "1.5.0",
            "_view_count": null,
            "_view_module_version": "1.2.0",
            "bar_color": null,
            "_model_module": "@jupyter-widgets/controls"
          }
        },
        "64221eafb57c45c9b2732c3cd1a43a2d": {
          "model_module": "@jupyter-widgets/base",
          "model_name": "LayoutModel",
          "state": {
            "_view_name": "LayoutView",
            "grid_template_rows": null,
            "right": null,
            "justify_content": null,
            "_view_module": "@jupyter-widgets/base",
            "overflow": null,
            "_model_module_version": "1.2.0",
            "_view_count": null,
            "flex_flow": null,
            "width": null,
            "min_width": null,
            "border": null,
            "align_items": null,
            "bottom": null,
            "_model_module": "@jupyter-widgets/base",
            "top": null,
            "grid_column": null,
            "overflow_y": null,
            "overflow_x": null,
            "grid_auto_flow": null,
            "grid_area": null,
            "grid_template_columns": null,
            "flex": null,
            "_model_name": "LayoutModel",
            "justify_items": null,
            "grid_row": null,
            "max_height": null,
            "align_content": null,
            "visibility": null,
            "align_self": null,
            "height": null,
            "min_height": null,
            "padding": null,
            "grid_auto_rows": null,
            "grid_gap": null,
            "max_width": null,
            "order": null,
            "_view_module_version": "1.2.0",
            "grid_template_areas": null,
            "object_position": null,
            "object_fit": null,
            "grid_auto_columns": null,
            "margin": null,
            "display": null,
            "left": null
          }
        },
        "3b8cac00fd274af99464b582edadad85": {
          "model_module": "@jupyter-widgets/controls",
          "model_name": "DescriptionStyleModel",
          "state": {
            "_view_name": "StyleView",
            "_model_name": "DescriptionStyleModel",
            "description_width": "",
            "_view_module": "@jupyter-widgets/base",
            "_model_module_version": "1.5.0",
            "_view_count": null,
            "_view_module_version": "1.2.0",
            "_model_module": "@jupyter-widgets/controls"
          }
        },
        "d8927b3e30fa4bdbbe33764bf6ab383b": {
          "model_module": "@jupyter-widgets/base",
          "model_name": "LayoutModel",
          "state": {
            "_view_name": "LayoutView",
            "grid_template_rows": null,
            "right": null,
            "justify_content": null,
            "_view_module": "@jupyter-widgets/base",
            "overflow": null,
            "_model_module_version": "1.2.0",
            "_view_count": null,
            "flex_flow": null,
            "width": null,
            "min_width": null,
            "border": null,
            "align_items": null,
            "bottom": null,
            "_model_module": "@jupyter-widgets/base",
            "top": null,
            "grid_column": null,
            "overflow_y": null,
            "overflow_x": null,
            "grid_auto_flow": null,
            "grid_area": null,
            "grid_template_columns": null,
            "flex": null,
            "_model_name": "LayoutModel",
            "justify_items": null,
            "grid_row": null,
            "max_height": null,
            "align_content": null,
            "visibility": null,
            "align_self": null,
            "height": null,
            "min_height": null,
            "padding": null,
            "grid_auto_rows": null,
            "grid_gap": null,
            "max_width": null,
            "order": null,
            "_view_module_version": "1.2.0",
            "grid_template_areas": null,
            "object_position": null,
            "object_fit": null,
            "grid_auto_columns": null,
            "margin": null,
            "display": null,
            "left": null
          }
        },
        "01d9945aa6cf47bd89736f74235ca076": {
          "model_module": "@jupyter-widgets/controls",
          "model_name": "HBoxModel",
          "state": {
            "_view_name": "HBoxView",
            "_dom_classes": [],
            "_model_name": "HBoxModel",
            "_view_module": "@jupyter-widgets/controls",
            "_model_module_version": "1.5.0",
            "_view_count": null,
            "_view_module_version": "1.5.0",
            "box_style": "",
            "layout": "IPY_MODEL_f82a9f29fcb24294b3aae9e787bd1252",
            "_model_module": "@jupyter-widgets/controls",
            "children": [
              "IPY_MODEL_c8019e2c07204814a9ca2bac6e809b60",
              "IPY_MODEL_895374592cd242df93ecd2dfe4e9a040"
            ]
          }
        },
        "f82a9f29fcb24294b3aae9e787bd1252": {
          "model_module": "@jupyter-widgets/base",
          "model_name": "LayoutModel",
          "state": {
            "_view_name": "LayoutView",
            "grid_template_rows": null,
            "right": null,
            "justify_content": null,
            "_view_module": "@jupyter-widgets/base",
            "overflow": null,
            "_model_module_version": "1.2.0",
            "_view_count": null,
            "flex_flow": null,
            "width": null,
            "min_width": null,
            "border": null,
            "align_items": null,
            "bottom": null,
            "_model_module": "@jupyter-widgets/base",
            "top": null,
            "grid_column": null,
            "overflow_y": null,
            "overflow_x": null,
            "grid_auto_flow": null,
            "grid_area": null,
            "grid_template_columns": null,
            "flex": null,
            "_model_name": "LayoutModel",
            "justify_items": null,
            "grid_row": null,
            "max_height": null,
            "align_content": null,
            "visibility": null,
            "align_self": null,
            "height": null,
            "min_height": null,
            "padding": null,
            "grid_auto_rows": null,
            "grid_gap": null,
            "max_width": null,
            "order": null,
            "_view_module_version": "1.2.0",
            "grid_template_areas": null,
            "object_position": null,
            "object_fit": null,
            "grid_auto_columns": null,
            "margin": null,
            "display": null,
            "left": null
          }
        },
        "c8019e2c07204814a9ca2bac6e809b60": {
          "model_module": "@jupyter-widgets/controls",
          "model_name": "FloatProgressModel",
          "state": {
            "_view_name": "ProgressView",
            "style": "IPY_MODEL_85bf7c25ef0b4d98972e11a4f031ff28",
            "_dom_classes": [],
            "description": "",
            "_model_name": "FloatProgressModel",
            "bar_style": "info",
            "max": 1,
            "_view_module": "@jupyter-widgets/controls",
            "_model_module_version": "1.5.0",
            "value": 1,
            "_view_count": null,
            "_view_module_version": "1.5.0",
            "orientation": "horizontal",
            "min": 0,
            "description_tooltip": null,
            "_model_module": "@jupyter-widgets/controls",
            "layout": "IPY_MODEL_3637c49224f94f279540fc223227950a"
          }
        },
        "895374592cd242df93ecd2dfe4e9a040": {
          "model_module": "@jupyter-widgets/controls",
          "model_name": "HTMLModel",
          "state": {
            "_view_name": "HTMLView",
            "style": "IPY_MODEL_58b66764fc724958aee0f7a9b0b790b8",
            "_dom_classes": [],
            "description": "",
            "_model_name": "HTMLModel",
            "placeholder": "​",
            "_view_module": "@jupyter-widgets/controls",
            "_model_module_version": "1.5.0",
            "value": " 27558/0 [00:08&lt;00:00, 3390.26 examples/s]",
            "_view_count": null,
            "_view_module_version": "1.5.0",
            "description_tooltip": null,
            "_model_module": "@jupyter-widgets/controls",
            "layout": "IPY_MODEL_775fecc3d17548e585a588deccfa3488"
          }
        },
        "85bf7c25ef0b4d98972e11a4f031ff28": {
          "model_module": "@jupyter-widgets/controls",
          "model_name": "ProgressStyleModel",
          "state": {
            "_view_name": "StyleView",
            "_model_name": "ProgressStyleModel",
            "description_width": "initial",
            "_view_module": "@jupyter-widgets/base",
            "_model_module_version": "1.5.0",
            "_view_count": null,
            "_view_module_version": "1.2.0",
            "bar_color": null,
            "_model_module": "@jupyter-widgets/controls"
          }
        },
        "3637c49224f94f279540fc223227950a": {
          "model_module": "@jupyter-widgets/base",
          "model_name": "LayoutModel",
          "state": {
            "_view_name": "LayoutView",
            "grid_template_rows": null,
            "right": null,
            "justify_content": null,
            "_view_module": "@jupyter-widgets/base",
            "overflow": null,
            "_model_module_version": "1.2.0",
            "_view_count": null,
            "flex_flow": null,
            "width": null,
            "min_width": null,
            "border": null,
            "align_items": null,
            "bottom": null,
            "_model_module": "@jupyter-widgets/base",
            "top": null,
            "grid_column": null,
            "overflow_y": null,
            "overflow_x": null,
            "grid_auto_flow": null,
            "grid_area": null,
            "grid_template_columns": null,
            "flex": null,
            "_model_name": "LayoutModel",
            "justify_items": null,
            "grid_row": null,
            "max_height": null,
            "align_content": null,
            "visibility": null,
            "align_self": null,
            "height": null,
            "min_height": null,
            "padding": null,
            "grid_auto_rows": null,
            "grid_gap": null,
            "max_width": null,
            "order": null,
            "_view_module_version": "1.2.0",
            "grid_template_areas": null,
            "object_position": null,
            "object_fit": null,
            "grid_auto_columns": null,
            "margin": null,
            "display": null,
            "left": null
          }
        },
        "58b66764fc724958aee0f7a9b0b790b8": {
          "model_module": "@jupyter-widgets/controls",
          "model_name": "DescriptionStyleModel",
          "state": {
            "_view_name": "StyleView",
            "_model_name": "DescriptionStyleModel",
            "description_width": "",
            "_view_module": "@jupyter-widgets/base",
            "_model_module_version": "1.5.0",
            "_view_count": null,
            "_view_module_version": "1.2.0",
            "_model_module": "@jupyter-widgets/controls"
          }
        },
        "775fecc3d17548e585a588deccfa3488": {
          "model_module": "@jupyter-widgets/base",
          "model_name": "LayoutModel",
          "state": {
            "_view_name": "LayoutView",
            "grid_template_rows": null,
            "right": null,
            "justify_content": null,
            "_view_module": "@jupyter-widgets/base",
            "overflow": null,
            "_model_module_version": "1.2.0",
            "_view_count": null,
            "flex_flow": null,
            "width": null,
            "min_width": null,
            "border": null,
            "align_items": null,
            "bottom": null,
            "_model_module": "@jupyter-widgets/base",
            "top": null,
            "grid_column": null,
            "overflow_y": null,
            "overflow_x": null,
            "grid_auto_flow": null,
            "grid_area": null,
            "grid_template_columns": null,
            "flex": null,
            "_model_name": "LayoutModel",
            "justify_items": null,
            "grid_row": null,
            "max_height": null,
            "align_content": null,
            "visibility": null,
            "align_self": null,
            "height": null,
            "min_height": null,
            "padding": null,
            "grid_auto_rows": null,
            "grid_gap": null,
            "max_width": null,
            "order": null,
            "_view_module_version": "1.2.0",
            "grid_template_areas": null,
            "object_position": null,
            "object_fit": null,
            "grid_auto_columns": null,
            "margin": null,
            "display": null,
            "left": null
          }
        },
        "9a189c2280b142dcbaecfc730625b086": {
          "model_module": "@jupyter-widgets/controls",
          "model_name": "HBoxModel",
          "state": {
            "_view_name": "HBoxView",
            "_dom_classes": [],
            "_model_name": "HBoxModel",
            "_view_module": "@jupyter-widgets/controls",
            "_model_module_version": "1.5.0",
            "_view_count": null,
            "_view_module_version": "1.5.0",
            "box_style": "",
            "layout": "IPY_MODEL_37a4f480e5d64bc58faa1b552e5937bd",
            "_model_module": "@jupyter-widgets/controls",
            "children": [
              "IPY_MODEL_ae3780f6eec04833a361a22c035eca04",
              "IPY_MODEL_74a4f5cfd33d4f488c18cf0febc1d8b6"
            ]
          }
        },
        "37a4f480e5d64bc58faa1b552e5937bd": {
          "model_module": "@jupyter-widgets/base",
          "model_name": "LayoutModel",
          "state": {
            "_view_name": "LayoutView",
            "grid_template_rows": null,
            "right": null,
            "justify_content": null,
            "_view_module": "@jupyter-widgets/base",
            "overflow": null,
            "_model_module_version": "1.2.0",
            "_view_count": null,
            "flex_flow": null,
            "width": null,
            "min_width": null,
            "border": null,
            "align_items": null,
            "bottom": null,
            "_model_module": "@jupyter-widgets/base",
            "top": null,
            "grid_column": null,
            "overflow_y": null,
            "overflow_x": null,
            "grid_auto_flow": null,
            "grid_area": null,
            "grid_template_columns": null,
            "flex": null,
            "_model_name": "LayoutModel",
            "justify_items": null,
            "grid_row": null,
            "max_height": null,
            "align_content": null,
            "visibility": null,
            "align_self": null,
            "height": null,
            "min_height": null,
            "padding": null,
            "grid_auto_rows": null,
            "grid_gap": null,
            "max_width": null,
            "order": null,
            "_view_module_version": "1.2.0",
            "grid_template_areas": null,
            "object_position": null,
            "object_fit": null,
            "grid_auto_columns": null,
            "margin": null,
            "display": null,
            "left": null
          }
        },
        "ae3780f6eec04833a361a22c035eca04": {
          "model_module": "@jupyter-widgets/controls",
          "model_name": "FloatProgressModel",
          "state": {
            "_view_name": "ProgressView",
            "style": "IPY_MODEL_9bde93244f5d4f699f0beac44dd5b389",
            "_dom_classes": [],
            "description": " 87%",
            "_model_name": "FloatProgressModel",
            "bar_style": "danger",
            "max": 27558,
            "_view_module": "@jupyter-widgets/controls",
            "_model_module_version": "1.5.0",
            "value": 23853,
            "_view_count": null,
            "_view_module_version": "1.5.0",
            "orientation": "horizontal",
            "min": 0,
            "description_tooltip": null,
            "_model_module": "@jupyter-widgets/controls",
            "layout": "IPY_MODEL_3fb8683db6ef41a69dd13b1f2b616c22"
          }
        },
        "74a4f5cfd33d4f488c18cf0febc1d8b6": {
          "model_module": "@jupyter-widgets/controls",
          "model_name": "HTMLModel",
          "state": {
            "_view_name": "HTMLView",
            "style": "IPY_MODEL_9ab964e42aa544e99fb6b9c3396ba902",
            "_dom_classes": [],
            "description": "",
            "_model_name": "HTMLModel",
            "placeholder": "​",
            "_view_module": "@jupyter-widgets/controls",
            "_model_module_version": "1.5.0",
            "value": " 23853/27558 [00:06&lt;00:00, 33243.12 examples/s]",
            "_view_count": null,
            "_view_module_version": "1.5.0",
            "description_tooltip": null,
            "_model_module": "@jupyter-widgets/controls",
            "layout": "IPY_MODEL_89712e6185754640af8748508c64c763"
          }
        },
        "9bde93244f5d4f699f0beac44dd5b389": {
          "model_module": "@jupyter-widgets/controls",
          "model_name": "ProgressStyleModel",
          "state": {
            "_view_name": "StyleView",
            "_model_name": "ProgressStyleModel",
            "description_width": "initial",
            "_view_module": "@jupyter-widgets/base",
            "_model_module_version": "1.5.0",
            "_view_count": null,
            "_view_module_version": "1.2.0",
            "bar_color": null,
            "_model_module": "@jupyter-widgets/controls"
          }
        },
        "3fb8683db6ef41a69dd13b1f2b616c22": {
          "model_module": "@jupyter-widgets/base",
          "model_name": "LayoutModel",
          "state": {
            "_view_name": "LayoutView",
            "grid_template_rows": null,
            "right": null,
            "justify_content": null,
            "_view_module": "@jupyter-widgets/base",
            "overflow": null,
            "_model_module_version": "1.2.0",
            "_view_count": null,
            "flex_flow": null,
            "width": null,
            "min_width": null,
            "border": null,
            "align_items": null,
            "bottom": null,
            "_model_module": "@jupyter-widgets/base",
            "top": null,
            "grid_column": null,
            "overflow_y": null,
            "overflow_x": null,
            "grid_auto_flow": null,
            "grid_area": null,
            "grid_template_columns": null,
            "flex": null,
            "_model_name": "LayoutModel",
            "justify_items": null,
            "grid_row": null,
            "max_height": null,
            "align_content": null,
            "visibility": null,
            "align_self": null,
            "height": null,
            "min_height": null,
            "padding": null,
            "grid_auto_rows": null,
            "grid_gap": null,
            "max_width": null,
            "order": null,
            "_view_module_version": "1.2.0",
            "grid_template_areas": null,
            "object_position": null,
            "object_fit": null,
            "grid_auto_columns": null,
            "margin": null,
            "display": null,
            "left": null
          }
        },
        "9ab964e42aa544e99fb6b9c3396ba902": {
          "model_module": "@jupyter-widgets/controls",
          "model_name": "DescriptionStyleModel",
          "state": {
            "_view_name": "StyleView",
            "_model_name": "DescriptionStyleModel",
            "description_width": "",
            "_view_module": "@jupyter-widgets/base",
            "_model_module_version": "1.5.0",
            "_view_count": null,
            "_view_module_version": "1.2.0",
            "_model_module": "@jupyter-widgets/controls"
          }
        },
        "89712e6185754640af8748508c64c763": {
          "model_module": "@jupyter-widgets/base",
          "model_name": "LayoutModel",
          "state": {
            "_view_name": "LayoutView",
            "grid_template_rows": null,
            "right": null,
            "justify_content": null,
            "_view_module": "@jupyter-widgets/base",
            "overflow": null,
            "_model_module_version": "1.2.0",
            "_view_count": null,
            "flex_flow": null,
            "width": null,
            "min_width": null,
            "border": null,
            "align_items": null,
            "bottom": null,
            "_model_module": "@jupyter-widgets/base",
            "top": null,
            "grid_column": null,
            "overflow_y": null,
            "overflow_x": null,
            "grid_auto_flow": null,
            "grid_area": null,
            "grid_template_columns": null,
            "flex": null,
            "_model_name": "LayoutModel",
            "justify_items": null,
            "grid_row": null,
            "max_height": null,
            "align_content": null,
            "visibility": null,
            "align_self": null,
            "height": null,
            "min_height": null,
            "padding": null,
            "grid_auto_rows": null,
            "grid_gap": null,
            "max_width": null,
            "order": null,
            "_view_module_version": "1.2.0",
            "grid_template_areas": null,
            "object_position": null,
            "object_fit": null,
            "grid_auto_columns": null,
            "margin": null,
            "display": null,
            "left": null
          }
        }
      }
    }
  },
  "cells": [
    {
      "cell_type": "markdown",
      "metadata": {
        "id": "lGAABvEp79Jk"
      },
      "source": [
        "**Malaria Detection**"
      ]
    },
    {
      "cell_type": "code",
      "metadata": {
        "id": "9aKVMYZg7yws"
      },
      "source": [
        "import numpy as np\n",
        "% tensorflow_version 2.x\n",
        "import tensorflow as tf\n",
        "import tensorflow_datasets as tfds\n",
        "import matplotlib.pyplot as plt\n",
        "\n"
      ],
      "execution_count": 1,
      "outputs": []
    },
    {
      "cell_type": "markdown",
      "metadata": {
        "id": "JnFJwU9v8VP7"
      },
      "source": [
        "Load the Dataset"
      ]
    },
    {
      "cell_type": "code",
      "metadata": {
        "colab": {
          "base_uri": "https://localhost:8080/",
          "height": 309,
          "referenced_widgets": [
            "7487460b951a49de8f42fc159ca1dee4",
            "21345ce7e50b4f4cb30e72e1bc0dffeb",
            "53afd09ec795475fa02c715ef97d65d7",
            "0426eabfdc3242e7b59e9fdb514bce16",
            "f5474188006c4fbaa4cbe13229b06f27",
            "c55648d3a6e44ea1b2e3cb21838a3085",
            "2f10fe80ab2a49aab78bfc132db3a973",
            "96d1f189660b4a6db157ed0b78b015af",
            "c4269b09b62f455a91611fd4daaa15f2",
            "cff672046d8840498bfb155c3b4fb110",
            "8dc6e7cf180247719904e1990b12326f",
            "083a821d58a9464bbb9a62bb917e5061",
            "2dc6a86536874168bb094705f997da7c",
            "b0cb96fd445a4d8d9f8a14c0a83b851a",
            "cd972c4b1f234d8daa99455714514684",
            "5806348ae0e84f73ae70f17eba067061",
            "9b05f34d78744d76aae66782c320198e",
            "b3066c8f696448da98690dbd39d3080c",
            "707dc9e59f61446ab3860ee14f4c2977",
            "427e51ffbfa1471494d6319dd815bab6",
            "98326e54c5b14023927f27700c6c96f3",
            "64221eafb57c45c9b2732c3cd1a43a2d",
            "3b8cac00fd274af99464b582edadad85",
            "d8927b3e30fa4bdbbe33764bf6ab383b",
            "01d9945aa6cf47bd89736f74235ca076",
            "f82a9f29fcb24294b3aae9e787bd1252",
            "c8019e2c07204814a9ca2bac6e809b60",
            "895374592cd242df93ecd2dfe4e9a040",
            "85bf7c25ef0b4d98972e11a4f031ff28",
            "3637c49224f94f279540fc223227950a",
            "58b66764fc724958aee0f7a9b0b790b8",
            "775fecc3d17548e585a588deccfa3488",
            "9a189c2280b142dcbaecfc730625b086",
            "37a4f480e5d64bc58faa1b552e5937bd",
            "ae3780f6eec04833a361a22c035eca04",
            "74a4f5cfd33d4f488c18cf0febc1d8b6",
            "9bde93244f5d4f699f0beac44dd5b389",
            "3fb8683db6ef41a69dd13b1f2b616c22",
            "9ab964e42aa544e99fb6b9c3396ba902",
            "89712e6185754640af8748508c64c763"
          ]
        },
        "id": "ibZaN59j8UWO",
        "outputId": "0fa82cc4-7b4d-470d-b0a0-1171ffcf75a2"
      },
      "source": [
        "train_dataset,test_dataset  = tfds.load('Malaria', split=['train[:80%]', 'train[80%:]'], as_supervised=True)\n"
      ],
      "execution_count": 2,
      "outputs": [
        {
          "output_type": "stream",
          "text": [
            "\u001b[1mDownloading and preparing dataset malaria/1.0.0 (download: 337.08 MiB, generated: Unknown size, total: 337.08 MiB) to /root/tensorflow_datasets/malaria/1.0.0...\u001b[0m\n"
          ],
          "name": "stdout"
        },
        {
          "output_type": "display_data",
          "data": {
            "application/vnd.jupyter.widget-view+json": {
              "model_id": "7487460b951a49de8f42fc159ca1dee4",
              "version_minor": 0,
              "version_major": 2
            },
            "text/plain": [
              "HBox(children=(FloatProgress(value=1.0, bar_style='info', description='Dl Completed...', max=1.0, style=Progre…"
            ]
          },
          "metadata": {
            "tags": []
          }
        },
        {
          "output_type": "display_data",
          "data": {
            "application/vnd.jupyter.widget-view+json": {
              "model_id": "c4269b09b62f455a91611fd4daaa15f2",
              "version_minor": 0,
              "version_major": 2
            },
            "text/plain": [
              "HBox(children=(FloatProgress(value=1.0, bar_style='info', description='Dl Size...', max=1.0, style=ProgressSty…"
            ]
          },
          "metadata": {
            "tags": []
          }
        },
        {
          "output_type": "display_data",
          "data": {
            "application/vnd.jupyter.widget-view+json": {
              "model_id": "9b05f34d78744d76aae66782c320198e",
              "version_minor": 0,
              "version_major": 2
            },
            "text/plain": [
              "HBox(children=(FloatProgress(value=1.0, bar_style='info', description='Extraction completed...', max=1.0, styl…"
            ]
          },
          "metadata": {
            "tags": []
          }
        },
        {
          "output_type": "stream",
          "text": [
            "\n",
            "\n",
            "\n",
            "\n",
            "\n",
            "\n"
          ],
          "name": "stdout"
        },
        {
          "output_type": "display_data",
          "data": {
            "application/vnd.jupyter.widget-view+json": {
              "model_id": "01d9945aa6cf47bd89736f74235ca076",
              "version_minor": 0,
              "version_major": 2
            },
            "text/plain": [
              "HBox(children=(FloatProgress(value=1.0, bar_style='info', max=1.0), HTML(value='')))"
            ]
          },
          "metadata": {
            "tags": []
          }
        },
        {
          "output_type": "stream",
          "text": [
            "\rShuffling and writing examples to /root/tensorflow_datasets/malaria/1.0.0.incompleteKZB5ZE/malaria-train.tfrecord\n"
          ],
          "name": "stdout"
        },
        {
          "output_type": "display_data",
          "data": {
            "application/vnd.jupyter.widget-view+json": {
              "model_id": "9a189c2280b142dcbaecfc730625b086",
              "version_minor": 0,
              "version_major": 2
            },
            "text/plain": [
              "HBox(children=(FloatProgress(value=0.0, max=27558.0), HTML(value='')))"
            ]
          },
          "metadata": {
            "tags": []
          }
        },
        {
          "output_type": "stream",
          "text": [
            "\u001b[1mDataset malaria downloaded and prepared to /root/tensorflow_datasets/malaria/1.0.0. Subsequent calls will reuse this data.\u001b[0m\n"
          ],
          "name": "stdout"
        }
      ]
    },
    {
      "cell_type": "markdown",
      "metadata": {
        "id": "FjpxwWoreVfY"
      },
      "source": [
        "Investigate the dataset"
      ]
    },
    {
      "cell_type": "code",
      "metadata": {
        "colab": {
          "base_uri": "https://localhost:8080/",
          "height": 298
        },
        "id": "HkNU9eSur1w0",
        "outputId": "ace755b9-a896-4a30-c377-b49ab4c4e022"
      },
      "source": [
        "\n",
        "def printing_images(input_set):\n",
        "  investigation_set = input_set.take(5)\n",
        "\n",
        "  fig,ax = plt.subplots(1,5)\n",
        "  counter = 0\n",
        "  for (image, label) in investigation_set:\n",
        "    print(image.dtype)\n",
        "    print(counter, \"image shape:\", image.shape)\n",
        "    ax[counter].imshow(image)\n",
        "    counter +=1\n",
        "\n",
        "printing_images(train_dataset)"
      ],
      "execution_count": 3,
      "outputs": [
        {
          "output_type": "stream",
          "text": [
            "<dtype: 'uint8'>\n",
            "0 image shape: (103, 103, 3)\n",
            "<dtype: 'uint8'>\n",
            "1 image shape: (106, 121, 3)\n",
            "<dtype: 'uint8'>\n",
            "2 image shape: (139, 142, 3)\n",
            "<dtype: 'uint8'>\n",
            "3 image shape: (130, 118, 3)\n",
            "<dtype: 'uint8'>\n",
            "4 image shape: (121, 109, 3)\n"
          ],
          "name": "stdout"
        },
        {
          "output_type": "display_data",
          "data": {
            "image/png": "[encoded data removed]",
            "text/plain": [
              "<Figure size 432x288 with 5 Axes>"
            ]
          },
          "metadata": {
            "tags": [],
            "needs_background": "light"
          }
        }
      ]
    },
    {
      "cell_type": "markdown",
      "metadata": {
        "id": "cmYO8yh_oD9c"
      },
      "source": [
        "\n",
        "  #have to adapt what we get out: diff loss, or diff accuracy calculation"
      ]
    },
    {
      "cell_type": "markdown",
      "metadata": {
        "id": "5psjaNmmqAAd"
      },
      "source": [
        "**Preprocessing - Input Pipeline**"
      ]
    },
    {
      "cell_type": "code",
      "metadata": {
        "id": "s--GFOiWCW1j"
      },
      "source": [
        "#train dataset\n",
        "\n",
        "#padding (with zeros)\n",
        "# we use the inbuild function to make all images the same size (120 x 120). Also, we convert the image to one-hot vectors with depth 2 because we have 2 labels.\n",
        "train_dataset = train_dataset.map(lambda img,label: (tf.image.resize_with_pad(img, 120,120), tf.one_hot(label,2)))\n",
        "#we map the values of image to values between 0 and 1 instead on 0-255\n",
        "train_dataset = train_dataset.map(lambda img, label: (tf.math.divide(img,255),label))\n",
        "\n",
        "#batching and prefetching\n",
        "train_dataset_batched = train_dataset.batch(64)\n",
        "train_dataset_shuffled = train_dataset_batched.shuffle(64)\n",
        "training_data = train_dataset_batched.prefetch(20)\n",
        "\n",
        "#test dataset\n",
        "test_dataset = test_dataset.map(lambda img,label: (tf.image.resize_with_pad(img, 120,120), tf.one_hot(label,2)))\n",
        "test_dataset = test_dataset.map(lambda img, label: (tf.math.divide(img,255),label))\n",
        "\n",
        "test_dataset_batched = test_dataset.batch(64)\n",
        "test_dataset_shuffled = test_dataset_batched.shuffle(64)\n",
        "test_data = test_dataset_batched.prefetch(20)"
      ],
      "execution_count": 4,
      "outputs": []
    },
    {
      "cell_type": "markdown",
      "metadata": {
        "id": "uGZuLE3SqaRK"
      },
      "source": [
        "**Build the model**"
      ]
    },
    {
      "cell_type": "code",
      "metadata": {
        "id": "_vzB_CsOqZUg"
      },
      "source": [
        "from tensorflow.keras import Model\n",
        "from tensorflow.keras.layers import Layer\n",
        "\n",
        "class Model(Model):\n",
        "  def __init__(self):\n",
        "    super(Model,self).__init__()\n",
        "\n",
        "    #Define the layers of the model: feature extraction\n",
        "    self.conv_1 = tf.keras.layers.Conv2D(filters = 32, kernel_size = 3, \n",
        "                                         padding = 'valid', activation = tf.keras.activations.relu,\n",
        "                                         input_shape = (120,120))\n",
        "    \n",
        "    self.pool_1 = tf.keras.layers.MaxPool2D()\n",
        "\n",
        "    self.conv_2 = tf.keras.layers.Conv2D(filters = 64, kernel_size = 3, \n",
        "                                         padding = 'valid', activation = tf.keras.activations.relu)\n",
        "    \n",
        "    self.pool_2 = tf.keras.layers.MaxPool2D()\n",
        "\n",
        "    self.conv_3 = tf.keras.layers.Conv2D(filters = 64, kernel_size = 3, \n",
        "                                         padding = 'valid', activation = tf.keras.activations.relu)\n",
        "    \n",
        "    self.pool_3 = tf.keras.layers.MaxPool2D()\n",
        "\n",
        "    self.conv_4 = tf.keras.layers.Conv2D(filters = 64, kernel_size = 3, \n",
        "                                         padding = 'valid', activation = tf.keras.activations.relu)\n",
        "    \n",
        "    #transform to vector that can be fed to classification\n",
        "    self.averagePool = tf.keras.layers.GlobalAveragePooling2D()\n",
        "\n",
        "    \n",
        "    #Classification: using simple MLP with no hidden layer --> just the output layer\n",
        "    self.output_layer = tf.keras.layers.Dense(2, activation = tf.keras.activations.softmax)\n",
        "\n",
        "  def call(self, x):\n",
        "    x = self.conv_1(x)\n",
        "    x = self.pool_1(x)\n",
        "    x = self.conv_2(x)\n",
        "    x = self.pool_2(x)\n",
        "    x = self.conv_3(x)\n",
        "    x = self.pool_3(x)\n",
        "    x = self.conv_4(x)\n",
        "    x = self.averagePool(x)\n",
        "    x = self.output_layer(x)\n",
        "\n",
        "    return x\n"
      ],
      "execution_count": 5,
      "outputs": []
    },
    {
      "cell_type": "markdown",
      "metadata": {
        "id": "B9xKO3D2sqsz"
      },
      "source": [
        "**Training**"
      ]
    },
    {
      "cell_type": "code",
      "metadata": {
        "id": "s6U3Fls8sur3"
      },
      "source": [
        "'''Training step\n",
        "  args: model, input (batch of data), target(batch of correct labels), loss_function, optimizer (how to perform the updates)'''\n",
        "def train_step(model, input, target, loss_function, optimizer):\n",
        "  \n",
        "  #For each batch we compute loss and accuracy based on the models prediction\n",
        "  with tf.GradientTape() as tape:\n",
        "    prediction = model(input)\n",
        "\n",
        "    loss = loss_function(prediction, target)\n",
        "        \n",
        "    accuracy = np.sum(np.argmax(target, axis=1) == np.argmax(prediction, axis=1)) / target.shape[0]\n",
        "    \n",
        "    #we compute the gradient of the loss with respect to the parameters\n",
        "    gradients = tape.gradient(loss, model.trainable_variables)\n",
        "  \n",
        "  #update the parameters on the basis of the computed gradients\n",
        "  optimizer.apply_gradients(zip(gradients, model.trainable_variables))\n",
        "  return loss, accuracy\n"
      ],
      "execution_count": 6,
      "outputs": []
    },
    {
      "cell_type": "markdown",
      "metadata": {
        "id": "3w2WM9_esvfs"
      },
      "source": [
        "Testing\n"
      ]
    },
    {
      "cell_type": "code",
      "metadata": {
        "id": "JpWLQztpsa8p"
      },
      "source": [
        "'''Test step:\n",
        "  args: the model, test_data as input and the loss_function'''\n",
        "def test(model, input, loss_function):\n",
        "  #iterate over the test_data and evaluate the models performance\n",
        "  for(image,label) in input:\n",
        "    #prediction of the model for the current samples\n",
        "    prediction = model(image)\n",
        "\n",
        "    test_losses = []\n",
        "    test_accuracies = []\n",
        "\n",
        "    #calculate the loss and accuracy\n",
        "    loss = loss_function(prediction, label)\n",
        "    accuracy = (np.argmax(prediction, axis=1) == np.argmax(label, axis = 1))\n",
        "\n",
        "    test_losses.append(loss.numpy())\n",
        "    test_accuracies.append(np.mean(accuracy))\n",
        "  \n",
        "  #return the mean of the performance data: loss and accuracy\n",
        "  test_loss = np.mean(test_losses)\n",
        "  test_accuracy = np.mean(test_accuracies)\n",
        "\n",
        "  return test_loss, test_accuracy"
      ],
      "execution_count": 7,
      "outputs": []
    },
    {
      "cell_type": "markdown",
      "metadata": {
        "id": "XZuG2kkMsyIy"
      },
      "source": [
        "**Perform the Training and TEsting**\n"
      ]
    },
    {
      "cell_type": "code",
      "metadata": {
        "id": "woZnhbAos3V6",
        "colab": {
          "base_uri": "https://localhost:8080/"
        },
        "outputId": "0a71624b-b0cb-4b2d-f8dc-41b2cc607a8c"
      },
      "source": [
        "tf.keras.backend.clear_session()\n",
        "\n",
        "#Initialize model\n",
        "model = Model()\n",
        "\n",
        "#hyperparameters\n",
        "epochs = 15\n",
        "learning_rate = 0.0001 \n",
        "\n",
        "loss = tf.keras.losses.BinaryCrossentropy()\n",
        "optimizer = tf.keras.optimizers.Adam(learning_rate)\n",
        "\n",
        "running_average_factor = 0.95\n",
        "\n",
        "#To keep track of the processes, we use several lists\n",
        "training_steps = []\n",
        "\n",
        "train_losses= []\n",
        "train_accuracies = []\n",
        "\n",
        "test_losses = []\n",
        "test_accuracies = []\n",
        "\n",
        "#test once before training the model\n",
        "test_loss, test_accuracy = test(model, test_data, loss)\n",
        "test_losses.append(test_loss)\n",
        "test_accuracies.append(test_accuracy)\n",
        "\n",
        "#how does the model do on training data before training?\n",
        "train_loss, train_accuracy = test(model, training_data, loss)\n",
        "train_losses.append(train_loss)\n",
        "train_accuracies.append(train_accuracy)\n",
        "\n",
        "#now start to train\n",
        "#run through the training_data_set in one epoch and adapt parameters (batchwise)\n",
        "#repeta for number of epochs\n",
        "for epoch in range(epochs):\n",
        "  print( \"---------------------------------------- Epoch Number:\", epoch)\n",
        "\n",
        "  training_steps.append(epoch)\n",
        "  #run through the current batch\n",
        "\n",
        "  training_data = training_data.shuffle(buffer_size=64)\n",
        "  test_data = test_data.shuffle(buffer_size=64)\n",
        "\n",
        "  running_average_loss = 0\n",
        "  running_average_accuracy = 0\n",
        "\n",
        "  #with a for loop we iterate over all the batches in the datset\n",
        "  #for each batch in the dataset: peform the training_step and update the parameters based on the computed loss for the whole batch\n",
        "  for i,(input, label) in enumerate(training_data):\n",
        "    #to keep track of our models progress we save training loss and accuracy\n",
        "    training_loss, training_accuracy = train_step(model, input, label, loss, optimizer)\n",
        "\n",
        "    #however with one 172 batches (thus accuracies and losses) the graph would look quite messy, thus we update our loss and accuracy in a weighted manner\n",
        "    #after each batch (update is weighted by the running_average_factor)\n",
        "    running_average_accuracy = running_average_factor * running_average_accuracy + (1- running_average_factor) * training_accuracy\n",
        "    running_average_loss = running_average_factor * running_average_loss  + (1 - running_average_factor) * training_loss \n",
        "\n",
        "  #After completing all the batches we append the computed loss and accuracy to the list\n",
        "  train_losses.append(running_average_loss)\n",
        "  train_accuracies.append(running_average_accuracy)\n",
        "\n",
        "  #now evaluate the models performance on test set\n",
        "  test_loss, test_accur = test(model, test_data, loss)\n",
        "  \n",
        "  test_losses.append(test_loss)\n",
        "  test_accuracies.append(test_accur)\n",
        "\n",
        "  #print current performance data\n",
        "  print(i, 'number of test_steps performed: each with 64 examples, so:', 64*i)\n",
        "  print('training_loss: ', running_average_loss.numpy(), 'training_accuracy: ', train_accuracies[epoch])\n",
        "  print('test_loss: ', test_loss, 'test_accuracy: ', test_accur)\n"
      ],
      "execution_count": 8,
      "outputs": [
        {
          "output_type": "stream",
          "text": [
            "---------------------------------------- Epoch Number: 0\n",
            "344 number of test_steps performed: each with 64 examples, so: 22016\n",
            "training_loss:  5.4136477 training_accuracy:  0.43333333333333335\n",
            "test_loss:  5.9273267 test_accuracy:  0.625\n",
            "---------------------------------------- Epoch Number: 1\n",
            "344 number of test_steps performed: each with 64 examples, so: 22016\n",
            "training_loss:  4.7273 training_accuracy:  0.6602272268514123\n",
            "test_loss:  5.6467886 test_accuracy:  0.609375\n",
            "---------------------------------------- Epoch Number: 2\n",
            "344 number of test_steps performed: each with 64 examples, so: 22016\n",
            "training_loss:  2.9070315 training_accuracy:  0.719455004262562\n",
            "test_loss:  2.8514583 test_accuracy:  0.828125\n",
            "---------------------------------------- Epoch Number: 3\n",
            "344 number of test_steps performed: each with 64 examples, so: 22016\n",
            "training_loss:  2.0629742 training_accuracy:  0.8426283787516264\n",
            "test_loss:  1.9787366 test_accuracy:  0.890625\n",
            "---------------------------------------- Epoch Number: 4\n",
            "344 number of test_steps performed: each with 64 examples, so: 22016\n",
            "training_loss:  1.7090117 training_accuracy:  0.8776859769931007\n",
            "test_loss:  2.4300346 test_accuracy:  0.859375\n",
            "---------------------------------------- Epoch Number: 5\n",
            "344 number of test_steps performed: each with 64 examples, so: 22016\n",
            "training_loss:  1.4725606 training_accuracy:  0.8977749057233055\n",
            "test_loss:  1.8279455 test_accuracy:  0.890625\n",
            "---------------------------------------- Epoch Number: 6\n",
            "344 number of test_steps performed: each with 64 examples, so: 22016\n",
            "training_loss:  1.1268072 training_accuracy:  0.9123467945622451\n",
            "test_loss:  1.4337429 test_accuracy:  0.921875\n",
            "---------------------------------------- Epoch Number: 7\n",
            "344 number of test_steps performed: each with 64 examples, so: 22016\n",
            "training_loss:  1.1638013 training_accuracy:  0.9315803666748212\n",
            "test_loss:  1.0740384 test_accuracy:  0.9375\n",
            "---------------------------------------- Epoch Number: 8\n",
            "344 number of test_steps performed: each with 64 examples, so: 22016\n",
            "training_loss:  1.1670882 training_accuracy:  0.9299214419691975\n",
            "test_loss:  0.94649136 test_accuracy:  0.9375\n",
            "---------------------------------------- Epoch Number: 9\n",
            "344 number of test_steps performed: each with 64 examples, so: 22016\n",
            "training_loss:  1.1051363 training_accuracy:  0.92664982423415\n",
            "test_loss:  0.88225985 test_accuracy:  0.9375\n",
            "---------------------------------------- Epoch Number: 10\n",
            "344 number of test_steps performed: each with 64 examples, so: 22016\n",
            "training_loss:  1.0736145 training_accuracy:  0.9308762791434905\n",
            "test_loss:  2.1626923 test_accuracy:  0.859375\n",
            "---------------------------------------- Epoch Number: 11\n",
            "344 number of test_steps performed: each with 64 examples, so: 22016\n",
            "training_loss:  0.97041136 training_accuracy:  0.9325882403191673\n",
            "test_loss:  1.0867797 test_accuracy:  0.9375\n",
            "---------------------------------------- Epoch Number: 12\n",
            "344 number of test_steps performed: each with 64 examples, so: 22016\n",
            "training_loss:  1.0868782 training_accuracy:  0.9386321362792418\n",
            "test_loss:  0.55205464 test_accuracy:  0.96875\n",
            "---------------------------------------- Epoch Number: 13\n",
            "344 number of test_steps performed: each with 64 examples, so: 22016\n",
            "training_loss:  0.93594116 training_accuracy:  0.9304835811979518\n",
            "test_loss:  0.2481668 test_accuracy:  0.984375\n",
            "---------------------------------------- Epoch Number: 14\n",
            "344 number of test_steps performed: each with 64 examples, so: 22016\n",
            "training_loss:  0.88106155 training_accuracy:  0.9403925170480838\n",
            "test_loss:  1.1960194 test_accuracy:  0.921875\n"
          ],
          "name": "stdout"
        }
      ]
    },
    {
      "cell_type": "markdown",
      "metadata": {
        "id": "xUVSnKrfuOQ3"
      },
      "source": [
        "**Visualization**"
      ]
    },
    {
      "cell_type": "code",
      "metadata": {
        "colab": {
          "base_uri": "https://localhost:8080/",
          "height": 281
        },
        "id": "V_GXSYPjuRN4",
        "outputId": "e301bf59-19ea-4c9f-d0f1-0bd951adfb59"
      },
      "source": [
        "import matplotlib.pyplot as plt\n",
        "\n",
        "#do the visualization\n",
        "#test loss and training loss\n",
        "plt.figure()\n",
        "line1, = plt.plot(train_losses)\n",
        "line2, = plt.plot(test_losses)\n",
        "plt.xlabel(\"Training steps\")\n",
        "plt.ylabel(\"Loss\")\n",
        "plt.legend((line1,line2),(\"training\",\"test\"))\n",
        "plt.show()"
      ],
      "execution_count": 9,
      "outputs": [
        {
          "output_type": "display_data",
          "data": {
            "image/png": "[encoded data removed]",
            "text/plain": [
              "<Figure size 432x288 with 1 Axes>"
            ]
          },
          "metadata": {
            "tags": [],
            "needs_background": "light"
          }
        }
      ]
    },
    {
      "cell_type": "code",
      "metadata": {
        "colab": {
          "base_uri": "https://localhost:8080/",
          "height": 279
        },
        "id": "Q10FzLhOuUnj",
        "outputId": "d7c9196a-b387-437f-fec8-19e9d86f7dac"
      },
      "source": [
        "#test accuracy and training accuracy\n",
        "plt.figure()\n",
        "line1, = plt.plot(train_accuracies)\n",
        "line2, = plt.plot(test_accuracies)\n",
        "plt.xlabel(\"Training steps\")\n",
        "plt.ylabel(\"Test/Training accuracy\")\n",
        "plt.legend((line1,line2),(\"training\",\"test\"))\n",
        "plt.show()"
      ],
      "execution_count": 10,
      "outputs": [
        {
          "output_type": "display_data",
          "data": {
            "image/png": "[encoded data removed]",
            "text/plain": [
              "<Figure size 432x288 with 1 Axes>"
            ]
          },
          "metadata": {
            "tags": [],
            "needs_background": "light"
          }
        }
      ]
    },
    {
      "cell_type": "code",
      "metadata": {
        "colab": {
          "base_uri": "https://localhost:8080/"
        },
        "id": "3W4Pi09DcMPv",
        "outputId": "480ea908-3018-4fad-a57b-9b5c025d9234"
      },
      "source": [
        "model.summary()"
      ],
      "execution_count": 11,
      "outputs": [
        {
          "output_type": "stream",
          "text": [
            "Model: \"model\"\n",
            "_________________________________________________________________\n",
            "Layer (type)                 Output Shape              Param #   \n",
            "=================================================================\n",
            "conv2d (Conv2D)              multiple                  896       \n",
            "_________________________________________________________________\n",
            "max_pooling2d (MaxPooling2D) multiple                  0         \n",
            "_________________________________________________________________\n",
            "conv2d_1 (Conv2D)            multiple                  18496     \n",
            "_________________________________________________________________\n",
            "max_pooling2d_1 (MaxPooling2 multiple                  0         \n",
            "_________________________________________________________________\n",
            "conv2d_2 (Conv2D)            multiple                  36928     \n",
            "_________________________________________________________________\n",
            "max_pooling2d_2 (MaxPooling2 multiple                  0         \n",
            "_________________________________________________________________\n",
            "conv2d_3 (Conv2D)            multiple                  36928     \n",
            "_________________________________________________________________\n",
            "global_average_pooling2d (Gl multiple                  0         \n",
            "_________________________________________________________________\n",
            "dense (Dense)                multiple                  130       \n",
            "=================================================================\n",
            "Total params: 93,378\n",
            "Trainable params: 93,378\n",
            "Non-trainable params: 0\n",
            "_________________________________________________________________\n"
          ],
          "name": "stdout"
        }
      ]
    }
  ]
}