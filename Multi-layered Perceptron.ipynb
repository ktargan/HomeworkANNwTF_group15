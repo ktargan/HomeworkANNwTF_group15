{
 "cells": [
  {
   "cell_type": "code",
   "execution_count": 1,
   "metadata": {},
   "outputs": [],
   "source": [
    "import numpy as np"
   ]
  },
  {
   "cell_type": "code",
   "execution_count": 2,
   "metadata": {},
   "outputs": [],
   "source": [
    "#sigmoid and its derivative\n",
    "def sigmoid(data):\n",
    "    return 1 / (1 + np.exp(- data)) \n",
    "    \n",
    "def sigmoid_prime(data):\n",
    "    return sigmoid(data) * (1 - sigmoid(data))"
   ]
  },
  {
   "cell_type": "code",
   "execution_count": 3,
   "metadata": {},
   "outputs": [],
   "source": [
    "''' Defining the data set and labels for different logical operators '''\n",
    "input_dataset = np.array([[0,0], [0,1], [1,0], [1,1]], dtype=np.float32)\n",
    "\n",
    "target_and = np.array([0,0,0,1])\n",
    "target_or = np.array([0,1,1,1])\n",
    "target_xor = np.array([0,1,1,0])\n",
    "target_nand = np.array([1,1,1,0])\n",
    "target_nor = np.array([1,0,0,0])"
   ]
  },
  {
   "cell_type": "code",
   "execution_count": 4,
   "metadata": {},
   "outputs": [],
   "source": [
    "'''This class represents one perceptron'''\n",
    "class Perceptron:\n",
    "    def __init__(self, input_pairs):\n",
    "        # the amount of inputs the perceptron receives\n",
    "        self.input_pairs = input_pairs\n",
    "        \n",
    "        #initialize the weights of the Perceptron: the number of weights is given by the number of incoming inputs\n",
    "        self.weights = np.random.randn(input_pairs)\n",
    "        \n",
    "        #every perceptron has one bias\n",
    "        self.bias = np.random.randn(1)\n",
    "        \n",
    "        self.drive = 0\n",
    "        self.input = 0\n",
    "        \n",
    "        #define the learning rate\n",
    "        self.learning_rate = 1\n",
    "    \n",
    "    '''In this function the output of the perceptron can be computed.\n",
    "    args: the input values the neuron receives\n",
    "    returns: the output/activation of the neuron'''\n",
    "    def forward_step(self, input_pair): \n",
    "        \n",
    "        self.input = input_pair\n",
    "        \n",
    "        # the drive is the initial activation of the neuron (before being evaluated by the activation function):\n",
    "        # the weighted inputs plus bias\n",
    "        self.drive = self.weights @ input_pair + self.bias\n",
    "        \n",
    "        #return the output of the activation function (when fed with the drive)\n",
    "        return sigmoid(self.drive)\n",
    "    \n",
    "    ''' The update function allows to update the weights and biases of the Perceptron given the error.\n",
    "    Args: delta: error term needed for appropriate updates'''\n",
    "    def update(self, delta):\n",
    "        # new weight is calculated by substracting the learning rate times the derivative (gradient) from the old weihgt\n",
    "        self.weights = self.weights - (self.learning_rate * (delta * self.input))\n",
    "            \n",
    "        # update bias\n",
    "        self.bias = self.bias - self.learning_rate * delta\n",
    "        "
   ]
  },
  {
   "cell_type": "code",
   "execution_count": 5,
   "metadata": {},
   "outputs": [],
   "source": [
    " ''' MLP with only one hidden layer. \n",
    "     Initialized with the number of neurons in the \n",
    "    hidden layer and the amount of initial inputs to the multi-layer perceptron.\n",
    "    Contains a function to forward_step and backward_step'''\n",
    "\n",
    "class MLP:\n",
    "   \n",
    "    def __init__(self, nr_input_pairs, nr_hidden_neurons):\n",
    "        \n",
    "        # Initialize list with neurons in hidden layer (number of neurons given by parameters)\n",
    "        self.hiddenlayer = []\n",
    "        \n",
    "        for elem in range(nr_hidden_neurons):\n",
    "            self.hiddenlayer.append(Perceptron(nr_input_pairs))\n",
    "\n",
    "        # initialize output layer\n",
    "        self.output_neuron = Perceptron(nr_hidden_neurons)\n",
    "            \n",
    "        self.output = 0\n",
    "    \n",
    "    \n",
    "    '''Calculate the current output for the network given a specific input\n",
    "        args: the input provided to the network\n",
    "        function saves the output''' \n",
    "    def forward_step(self, input_pairs):\n",
    "        \n",
    "        #for each neuron in the hidden layer compute the output and save the outputs in a numpy array (activations_hl)\n",
    "        activations_hl = np.array([neuron.forward_step(input_pairs) for neuron in self.hiddenlayer])\n",
    "        #reshape the array so that it does not contain 4 separate lists, but rather one list with four elements\n",
    "        activations_hl = np.reshape(activations_hl, newshape= (-1))\n",
    "        \n",
    "        #feed the activations of the hidden layer to the neuron of the output layer to compute the activation\n",
    "        self.output = self.output_neuron.forward_step(activations_hl)\n",
    "    \n",
    "    \n",
    "    \n",
    "    '''Function allows to iterate through the network backwords to update the weights and biases \n",
    "        args: the target value the network should compute if it works correctly\n",
    "        \n",
    "        procedure:\n",
    "        # start with the output neuron: calculate the error term and adapt its weights and bias\n",
    "        # then do the same for the hidden layer neurons'''\n",
    "    def backward_step(self, target):\n",
    "        #delta for output layer (error term)\n",
    "        delta_output_layer = -(target - self.output) * sigmoid_prime(self.output_neuron.drive)\n",
    "        \n",
    "        #backward_step in output layer\n",
    "        self.output_neuron.update(delta_output_layer)\n",
    "        \n",
    "        # backward step for all neurons in the hidden layer, using their specific error term\n",
    "        for elem in range(len(self.hiddenlayer)):\n",
    "            #error term of the hidden layer neurons can be calculated from the delta of the output layer (l+1 -layer), \n",
    "            #the respective weight and drive\n",
    "            delta_hidden = delta_output_layer * self.output_neuron.weights[elem] * sigmoid_prime(self.hiddenlayer[elem].drive)\n",
    "            self.hiddenlayer[elem].update(delta_hidden)"
   ]
  },
  {
   "cell_type": "code",
   "execution_count": 6,
   "metadata": {},
   "outputs": [],
   "source": [
    "'''Training the MLP'''\n",
    "# Training the network for the logical XOR operator\n",
    "target_labels = target_xor\n",
    "\n",
    "#initialize a MLP with an input of 2 and a hidden layer with 4 Perceptrons\n",
    "mlp = MLP(2,4)\n",
    "\n",
    "\n",
    "steps = []\n",
    "accuracies = []\n",
    "loss = []\n",
    "\n",
    "#perform 1000 training steps\n",
    "for i in range(1000):\n",
    "    #count current number of performed epochs\n",
    "    steps.append(i)\n",
    "    \n",
    "    acc_sum = 0\n",
    "    loss_sum = 0\n",
    "    \n",
    "    #for each sample in the dataset perform a forward and backword step to measure performance\n",
    "    for count in range(4):\n",
    "        #perform forward step and compare result to target\n",
    "        mlp.forward_step(input_dataset[count])\n",
    "        \n",
    "        #perform backward step\n",
    "        mlp.backward_step(target_labels[count])\n",
    "        #add 1 to accuracy sum if output was correct (else 0)\n",
    "        \n",
    "        acc_sum += int(float(mlp.output>=0.5) == target_labels[count])\n",
    "        loss_sum += pow((target_labels[count] - mlp.output), 2)\n",
    "        \n",
    "        \n",
    "    #append the calculated values to the corresponding lists to measure loss and accuracy\n",
    "    accuracies.append((acc_sum /4))\n",
    "    loss.append(loss_sum)\n",
    "   "
   ]
  },
  {
   "cell_type": "code",
   "execution_count": 7,
   "metadata": {},
   "outputs": [
    {
     "data": {
      "image/png": "[encoded data removed]",
      "text/plain": [
       "<Figure size 432x288 with 1 Axes>"
      ]
     },
     "metadata": {
      "needs_background": "light"
     },
     "output_type": "display_data"
    },
    {
     "data": {
      "image/png": "[encoded data removed]",
      "text/plain": [
       "<Figure size 432x288 with 1 Axes>"
      ]
     },
     "metadata": {
      "needs_background": "light"
     },
     "output_type": "display_data"
    }
   ],
   "source": [
    "'''Visualization'''\n",
    "import matplotlib.pyplot as plt\n",
    "\n",
    "plt.figure(\"The Loss\")\n",
    "plt.plot(steps, loss)\n",
    "plt.xlabel(\"Number of training steps\")\n",
    "plt.ylabel(\"Loss\")\n",
    "plt.ylim([-0.1, 1.2])\n",
    "plt.show()\n",
    "\n",
    "plt.figure(\"The accuracies\")\n",
    "plt.plot(steps, accuracies)\n",
    "plt.xlabel(\"Number of training steps\")\n",
    "plt.ylabel(\"Accuracy\")\n",
    "plt.ylim([-0.1, 1.2])\n",
    "plt.show()"
   ]
  }
 ],
 "metadata": {
  "kernelspec": {
   "display_name": "Python 3",
   "language": "python",
   "name": "python3"
  },
  "language_info": {
   "codemirror_mode": {
    "name": "ipython",
    "version": 3
   },
   "file_extension": ".py",
   "mimetype": "text/x-python",
   "name": "python",
   "nbconvert_exporter": "python",
   "pygments_lexer": "ipython3",
   "version": "3.8.3"
  }
 },
 "nbformat": 4,
 "nbformat_minor": 4
}
