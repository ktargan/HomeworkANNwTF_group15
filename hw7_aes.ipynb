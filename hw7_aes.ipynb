{
  "nbformat": 4,
  "nbformat_minor": 0,
  "metadata": {
    "colab": {
      "name": "hw7_aes.ipynb",
      "provenance": []
    },
    "kernelspec": {
      "name": "python3",
      "display_name": "Python 3"
    }
  },
  "cells": [
    {
      "cell_type": "code",
      "metadata": {
        "id": "d9f6ZplKRxM7"
      },
      "source": [
        "import numpy as np\r\n",
        "% tensorflow_version 2.x\r\n",
        "import tensorflow as tf\r\n",
        "import matplotlib.pyplot as plt\r\n",
        "import time"
      ],
      "execution_count": 69,
      "outputs": []
    },
    {
      "cell_type": "code",
      "metadata": {
        "id": "He2P1NFOR-rB"
      },
      "source": [
        "#load the dataset\r\n",
        "(training_images, training_labels), (test_images, test_labels) = tf.keras.datasets.fashion_mnist.load_data()"
      ],
      "execution_count": 70,
      "outputs": []
    },
    {
      "cell_type": "code",
      "metadata": {
        "colab": {
          "base_uri": "https://localhost:8080/",
          "height": 150
        },
        "id": "jvrHvVbfSYRW",
        "outputId": "b7e802fc-fe4a-4a29-a17c-21a3a913f200"
      },
      "source": [
        "#Visualization\r\n",
        "print(\"Training_images shape: \", training_images.shape)\r\n",
        "print(\"How many test samples are there: \", test_images.shape[0])\r\n",
        "print(\"Training labels shape: \", training_labels.shape)\r\n",
        "print(\"One label example: \", training_labels[0])\r\n",
        "\r\n",
        "#Visualize the images\r\n",
        "fig, ax = plt.subplots(1,10)\r\n",
        "\r\n",
        "for i in range(10):\r\n",
        "  ax[i].imshow(training_images[i])\r\n",
        "  ax[i].set_title(training_labels[i])\r\n",
        "  ax[i].axis(\"off\")\r\n",
        "\r\n",
        "\r\n"
      ],
      "execution_count": 71,
      "outputs": [
        {
          "output_type": "stream",
          "text": [
            "Training_images shape:  (60000, 28, 28)\n",
            "How many test samples are there:  10000\n",
            "Training labels shape:  (60000,)\n",
            "One label example:  9\n"
          ],
          "name": "stdout"
        },
        {
          "output_type": "display_data",
          "data": {
            "image/png": "[encoded data removed]",
            "text/plain": [
              "<Figure size 432x288 with 10 Axes>"
            ]
          },
          "metadata": {
            "tags": [],
            "needs_background": "light"
          }
        }
      ]
    },
    {
      "cell_type": "markdown",
      "metadata": {
        "id": "nzjBplhRTxLD"
      },
      "source": [
        "## Preprocessing"
      ]
    },
    {
      "cell_type": "code",
      "metadata": {
        "id": "KMn4-kyQTy_M"
      },
      "source": [
        "#perform necessary preprocessing steps\r\n",
        "#for our autoencoder we do not need the labels\r\n",
        "\r\n",
        "#normalizing the images\r\n",
        "training_images = tf.data.Dataset.from_tensor_slices(training_images)\r\n",
        "training_images = training_images.map(lambda img : tf.cast(tf.expand_dims(img,-1), tf.float32))\r\n",
        "training_images = training_images.map(lambda img: img/255)\r\n",
        "#labels must be stored as a Dataset to add them to the training_data\r\n",
        "#as we do not use them for training no one_hot encoding is needed though\r\n",
        "training_labels = tf.data.Dataset.from_tensor_slices(training_labels)\r\n",
        "\r\n",
        "#Prepare the dataset\r\n",
        "#this includes dividing the dataset into batches\r\n",
        "training_data = tf.data.Dataset.zip((training_images, training_labels))\r\n",
        "training_data = training_data.batch(64)\r\n",
        "training_data = training_data.shuffle(buffer_size= 64)\r\n",
        "training_data = training_data.prefetch(16)\r\n",
        "\r\n",
        "test_images = test_images[:1000]\r\n",
        "test_labels = test_labels[:1000]\r\n",
        "test_images = tf.data.Dataset.from_tensor_slices(test_images)\r\n",
        "test_images = test_images.map(lambda img : tf.cast(tf.expand_dims(img,-1), tf.float32))\r\n",
        "test_images = test_images.map(lambda img: img/255)\r\n",
        "\r\n",
        "test_labels = tf.data.Dataset.from_tensor_slices(test_labels)\r\n",
        "\r\n",
        "test_data = tf.data.Dataset.zip((test_images, test_labels))\r\n",
        "test_data = test_data.batch(64)\r\n",
        "test_data = test_data.shuffle(buffer_size= 64)\r\n",
        "test_data = test_data.prefetch(16)"
      ],
      "execution_count": 72,
      "outputs": []
    },
    {
      "cell_type": "markdown",
      "metadata": {
        "id": "NVSn3zXDVcYX"
      },
      "source": [
        "## 1. Convolutional Autoencoder"
      ]
    },
    {
      "cell_type": "markdown",
      "metadata": {
        "id": "0WI2d7PRVnUO"
      },
      "source": [
        "### 1.1. Encoder"
      ]
    },
    {
      "cell_type": "code",
      "metadata": {
        "id": "W2AxIaBKVgBX"
      },
      "source": [
        "class EncBlock(tf.keras.layers.Layer):\r\n",
        "  def __init__(self, number_filters):\r\n",
        "    super(EncBlock, self).__init__()\r\n",
        "    self.conv = tf.keras.layers.Conv2D(filters = number_filters, activation = None, kernel_size = 3, padding = 'same')\r\n",
        "    self.batch_norm = tf.keras.layers.BatchNormalization()\r\n",
        "    self.relu = tf.keras.layers.ReLU()\r\n",
        "    self.pool = tf.keras.layers.MaxPool2D(strides = (2,2))\r\n",
        "\r\n",
        "  def call(self, input_x, training):\r\n",
        "    x = self.conv(input_x)\r\n",
        "    x = self.batch_norm(x, training)\r\n",
        "    x = self.relu(x)\r\n",
        "    x = self.pool(x)\r\n",
        "\r\n",
        "    return x\r\n",
        "\r\n",
        "class Encoder(tf.keras.Model):\r\n",
        "  def __init__(self):\r\n",
        "    super(Encoder, self).__init__()\r\n",
        "    #self.dense_layer = tf.keras.layers.Dense(units = (28*28), activation = tf.keras.activations.relu)\r\n",
        "    self.block1 = EncBlock(32)\r\n",
        "    self.block2 = EncBlock(16)\r\n",
        "\r\n",
        "    self.flatten = tf.keras.layers.Flatten()\r\n",
        "    self.encoding_layer = tf.keras.layers.Dense(units = 10, activation = tf.keras.activations.softmax)\r\n",
        "\r\n",
        "  def call(self, input_x, training):\r\n",
        "\r\n",
        "    x = self.block1(input_x, training)\r\n",
        "    x = self.block2(x, training)\r\n",
        "    x = self.flatten(x)\r\n",
        "    x = self.encoding_layer(x)\r\n",
        "\r\n",
        "    return x\r\n"
      ],
      "execution_count": 73,
      "outputs": []
    },
    {
      "cell_type": "markdown",
      "metadata": {
        "id": "zGfQk2aXVv9I"
      },
      "source": [
        "### 1.2. Decoder"
      ]
    },
    {
      "cell_type": "code",
      "metadata": {
        "id": "FZmERucQVts3"
      },
      "source": [
        "class Decoder(tf.keras.Model):\r\n",
        "  def __init__(self):\r\n",
        "    super(Decoder, self).__init__()\r\n",
        "    #firstly restore dimensionality with a dense_layer\r\n",
        "    \r\n",
        "    self.dense_layer = tf.keras.layers.Dense(units = (7*7*32), activation = tf.keras.activations.relu)\r\n",
        "    self.reshape = tf.keras.layers.Reshape((7,7,32))\r\n",
        "    self.ConvT_1 = tf.keras.layers.Conv2DTranspose(filters =16, padding = 'same', kernel_size = 3, strides = (2,2))\r\n",
        "    self.batch_norm1 = tf.keras.layers.BatchNormalization()\r\n",
        "    self.relu1 = tf.keras.layers.ReLU()\r\n",
        "    self.ConvT_2 = tf.keras.layers.Conv2DTranspose(filters =16, padding = 'same', kernel_size = 3, strides = (2,2))\r\n",
        "    self.batch_norm2 = tf.keras.layers.BatchNormalization()\r\n",
        "    self.relu2 = tf.keras.layers.ReLU()\r\n",
        "    self.output_layer = tf.keras.layers.Conv2D(filters=1, padding = 'same', kernel_size = 3, activation= tf.keras.activations.sigmoid)\r\n",
        "\r\n",
        "  def call(self, input_x, training):\r\n",
        "    x = self.dense_layer(input_x)\r\n",
        "    x = self.reshape(x)\r\n",
        "    x = self.ConvT_1(x)\r\n",
        "    x = self.batch_norm1(x, training)\r\n",
        "    x = self.relu1(x)\r\n",
        "    x = self.ConvT_2(x)\r\n",
        "    x = self.batch_norm2(x, training)\r\n",
        "    x = self.relu2(x)\r\n",
        "    x = self.output_layer(x)\r\n",
        "\r\n",
        "    return x"
      ],
      "execution_count": 74,
      "outputs": []
    },
    {
      "cell_type": "markdown",
      "metadata": {
        "id": "-8ZW5vmIWxmu"
      },
      "source": [
        "### 1.3. Autoencoder"
      ]
    },
    {
      "cell_type": "code",
      "metadata": {
        "id": "L0y0u5RPW1Dk"
      },
      "source": [
        "class ConvoAE(tf.keras.Model):\r\n",
        "  def __init__(self):\r\n",
        "    super(ConvoAE, self).__init__()\r\n",
        "    self.encoder = Encoder()\r\n",
        "    self.decoder = Decoder()\r\n",
        "    \r\n",
        "  def call(self, input_x, training):\r\n",
        "    x = self.encoder(input_x, training)\r\n",
        "    x = self.decoder(x, training)\r\n",
        "\r\n",
        "    return x"
      ],
      "execution_count": 75,
      "outputs": []
    },
    {
      "cell_type": "markdown",
      "metadata": {
        "id": "oqAL3pCyVgtF"
      },
      "source": [
        "2. Variational Autoencoder"
      ]
    },
    {
      "cell_type": "code",
      "metadata": {
        "id": "sFkh1gwLVj2o"
      },
      "source": [
        ""
      ],
      "execution_count": 75,
      "outputs": []
    },
    {
      "cell_type": "markdown",
      "metadata": {
        "id": "gyFCu0hGkGWn"
      },
      "source": [
        "## Training"
      ]
    },
    {
      "cell_type": "code",
      "metadata": {
        "id": "mowk0bEukIDn"
      },
      "source": [
        "def train_step(model, samples, loss_function, optimizer, training= True):\r\n",
        "  with tf.GradientTape() as tape:\r\n",
        "    reconstructed_img = model(samples, training)\r\n",
        "    loss = loss_function(reconstructed_img, samples)\r\n",
        "\r\n",
        "    gradients = tape.gradient(loss, model.trainable_variables)\r\n",
        "  \r\n",
        "  optimizer.apply_gradients(zip(gradients, model.trainable_variables))\r\n",
        "  \r\n",
        "  return loss\r\n",
        "\r\n",
        "def test(model, input, loss_function, training= False):\r\n",
        "  losses = []\r\n",
        "  accuracies = []\r\n",
        "\r\n",
        "  for image,label in input:\r\n",
        "    reconstructed_img = model(image, training)\r\n",
        "    loss = loss_function(reconstructed_img, image)\r\n",
        "\r\n",
        "  return loss\r\n"
      ],
      "execution_count": 76,
      "outputs": []
    },
    {
      "cell_type": "code",
      "metadata": {
        "id": "Ety8SySJn1rJ"
      },
      "source": [
        "def plot_img(image_rec, image):\r\n",
        "  \r\n",
        "  fig, ax = plt.subplots(1,2)\r\n",
        "  ax[0].imshow(image_rec)\r\n",
        "  ax[0].set_title(\"reconstructed image\")\r\n",
        "  ax[0].axis(\"off\")\r\n",
        "  ax[1].imshow(image)\r\n",
        "  ax[1].set_title(\"input\")\r\n",
        "  ax[1].axis(\"off\")"
      ],
      "execution_count": 77,
      "outputs": []
    },
    {
      "cell_type": "code",
      "metadata": {
        "id": "AsKnXBlmQBdY"
      },
      "source": [
        "def timing(start):\r\n",
        "    now = time.time()\r\n",
        "    time_per_training_step = now - start\r\n",
        "    # compute duration of an epoch\r\n",
        "    return round(time_per_training_step, 2)"
      ],
      "execution_count": 78,
      "outputs": []
    },
    {
      "cell_type": "code",
      "metadata": {
        "colab": {
          "base_uri": "https://localhost:8080/"
        },
        "id": "IE-08M-0lXN3",
        "outputId": "90fb6ada-bdf1-45b7-c0e7-81133cb12f6a"
      },
      "source": [
        "tf.keras.backend.clear_session()\r\n",
        "\r\n",
        "# Initialize our models with three blocks each\r\n",
        "conv_ae = ConvoAE()\r\n",
        "\r\n",
        "#Define hyperparameters\r\n",
        "#How many training epochs do we perform\r\n",
        "epochs = 10\r\n",
        "#define the learning rate which influences the magnitude with which we update the models parameters\r\n",
        "learning_rate = 0.001\r\n",
        "#as a loss_function we use CategoricalCrossentropy\r\n",
        "loss_function = tf.keras.losses.MeanSquaredError()\r\n",
        "optimizer = tf.keras.optimizers.Adam(learning_rate)\r\n",
        "\r\n",
        "running_average_factor = 0.95\r\n",
        "\r\n",
        "\r\n",
        "steps = []\r\n",
        "\r\n",
        "for epoch in range(epochs):\r\n",
        "  print(epoch, \". epoch --------------------------------------------------------------------------------\")\r\n",
        "  steps.append(epoch)\r\n",
        "  losses = []\r\n",
        "\r\n",
        "  start = time.time()\r\n",
        "  original_loss = 0\r\n",
        "  for (images,labels) in training_data:\r\n",
        "    train_loss = train_step(conv_ae, images, loss_function, optimizer, training = True)\r\n",
        "\r\n",
        "    original_loss = running_average_factor * original_loss + (1-running_average_factor) * train_loss\r\n",
        "  losses.append(original_loss)\r\n",
        "  \r\n",
        "  print(f\"the training step took {timing(start)} seconds\")\r\n",
        "  #some sort of plotting\r\n",
        "  print(\"train_loss\", np.mean(losses))"
      ],
      "execution_count": null,
      "outputs": [
        {
          "output_type": "stream",
          "text": [
            "0 . epoch --------------------------------------------------------------------------------\n"
          ],
          "name": "stdout"
        }
      ]
    },
    {
      "cell_type": "code",
      "metadata": {
        "id": "2bgFcZmXavIg"
      },
      "source": [
        ""
      ],
      "execution_count": null,
      "outputs": []
    },
    {
      "cell_type": "markdown",
      "metadata": {
        "id": "kgYX3zuRn_3Y"
      },
      "source": [
        "## Latent Space Analysis"
      ]
    },
    {
      "cell_type": "code",
      "metadata": {
        "id": "SXpaDjlEoCKT"
      },
      "source": [
        "#test_embeddings = test_data[:1000]"
      ],
      "execution_count": null,
      "outputs": []
    }
  ]
}