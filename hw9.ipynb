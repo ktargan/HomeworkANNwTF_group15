{
  "nbformat": 4,
  "nbformat_minor": 0,
  "metadata": {
    "colab": {
      "name": "Untitled7.ipynb",
      "provenance": []
    },
    "kernelspec": {
      "name": "python3",
      "display_name": "Python 3"
    }
  },
  "cells": [
    {
      "cell_type": "code",
      "metadata": {
        "id": "dSR_FYdPvz7o"
      },
      "source": [
        "import numpy as np\r\n",
        "import tensorflow as tf\r\n",
        "import matplotlib.pyplot as plt"
      ],
      "execution_count": 1,
      "outputs": []
    },
    {
      "cell_type": "code",
      "metadata": {
        "id": "HPtqvt-ePnTm"
      },
      "source": [
        "#LSTM Cell\r\n",
        "class LSTMCell(tf.keras.layers.Layer):\r\n",
        "  def __init__(self):\r\n",
        "    super(LSTMCell, self).__init__()\r\n",
        "\r\n",
        "    #gates as dense layers with respective activation function\r\n",
        "    self.forget_gate = tf.keras.layers.Dense(units = 2 , activation = tf.keras.activations.sigmoid, bias_initializer='ones')\r\n",
        "    self.input_gate = tf.keras.layers.Dense(units = 2, activation = tf.keras.activations.sigmoid)\r\n",
        "    self.output_gate = tf.keras.layers.Dense(units = 2, activation = tf.keras.activations.sigmoid)\r\n",
        "    \r\n",
        "    #cell state candidates with tanh\r\n",
        "    self.candidates = tf.keras.layers.Dense(units = 2, activation = tf.keras.activations.tanh)\r\n",
        "\r\n",
        "    self.tanh = tf.keras.layers.tanh()\r\n",
        "\r\n",
        "  def call(self, input, (hidden_state, cell_state)):\r\n",
        "    #concatenate input and hidden state\r\n",
        "    concat_input = tf.keras.layers.concatenate(hidden_state,input)\r\n",
        "\r\n",
        "    #forget part of cell state\r\n",
        "    cell_state = cell_state * self.forget_gate(concat_input)\r\n",
        "\r\n",
        "    #compute update for cell state\r\n",
        "    update = self.input_gate(concat_input) * self.candidates(concat_input)\r\n",
        "    #use input gate and candidates to update cell state\r\n",
        "    cell_state = cell_state + update\r\n",
        "\r\n",
        "    #compute new hidden state\r\n",
        "    hidden_state = ouput_gate(concat_input) * self.tanh(cell_State)\r\n",
        "\r\n",
        "    #ouput the hidden state\r\n",
        "    return hidden_state"
      ],
      "execution_count": null,
      "outputs": []
    },
    {
      "cell_type": "code",
      "metadata": {
        "id": "8bXqIRSHP-et"
      },
      "source": [
        "class LSTM(tf.keras.layers.Layer):\r\n",
        "  def __init__(self):\r\n",
        "    self.cell = LSTMCell()\r\n",
        "\r\n",
        "\r\n",
        "  def call(self, input):\r\n",
        "    self.cell(input)\r\n",
        "    #input shpae: [batchsize, timesteps, inputsize\r\n",
        "    return "
      ],
      "execution_count": null,
      "outputs": []
    },
    {
      "cell_type": "code",
      "metadata": {
        "id": "b5RK4JGixdNB"
      },
      "source": [
        "class Model():\r\n",
        "  "
      ],
      "execution_count": null,
      "outputs": []
    },
    {
      "cell_type": "code",
      "metadata": {
        "id": "LY27pwFGh65C"
      },
      "source": [
        "#generate sequence\r\n",
        "def generate_sequence(max_length):\r\n",
        "  np.array\r\n",
        "  return"
      ],
      "execution_count": null,
      "outputs": []
    }
  ]
}