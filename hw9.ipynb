{
  "nbformat": 4,
  "nbformat_minor": 0,
  "metadata": {
    "colab": {
      "name": "hw9.ipynb",
      "provenance": [],
      "collapsed_sections": []
    },
    "kernelspec": {
      "display_name": "Python 3",
      "name": "python3"
    },
    "accelerator": "GPU"
  },
  "cells": [
    {
      "cell_type": "code",
      "metadata": {
        "id": "dSR_FYdPvz7o"
      },
      "source": [
        "import numpy as np\r\n",
        "import tensorflow as tf\r\n",
        "import matplotlib.pyplot as plt"
      ],
      "execution_count": null,
      "outputs": []
    },
    {
      "cell_type": "code",
      "metadata": {
        "id": "to99YNHiyUl6"
      },
      "source": [
        "#generate the dataset\r\n",
        "BATCHSIZE = 32\r\n",
        "def generate_data(numb_samples, seq_length):\r\n",
        "  targets = [np.random.randint(low=0, high=10, size = 2) for i in range(numb_samples)]\r\n",
        "  sequences = [np.random.randint(low=0,high=10, size= seq_length) for i in range(numb_samples)]\r\n",
        "  \r\n",
        "  #Calculate the true results for the dataset\r\n",
        "  ground_truth = []\r\n",
        "  for target,seq in zip(targets,sequences):\r\n",
        "    ground_truth.append(calculate_target(target, seq))\r\n",
        "\r\n",
        "  sequences = tf.data.Dataset.from_tensor_slices(sequences)\r\n",
        "  sequences = sequences.map(lambda seq: tf.one_hot(seq,10))\r\n",
        "  targets = tf.data.Dataset.from_tensor_slices(targets)\r\n",
        "  targets = targets.map(lambda t: tf.one_hot(t,10))\r\n",
        "\r\n",
        "  ground_truth = tf.data.Dataset.from_tensor_slices(ground_truth)\r\n",
        "  #Combine everything into a dataset\r\n",
        "  dataset = tf.data.Dataset.zip((sequences, targets, ground_truth))\r\n",
        "\r\n",
        "  dataset = dataset.batch(BATCHSIZE)\r\n",
        "  dataset = dataset.shuffle(BATCHSIZE)\r\n",
        "  dataset = dataset.prefetch(8)\r\n",
        "\r\n",
        "  return dataset"
      ],
      "execution_count": null,
      "outputs": []
    },
    {
      "cell_type": "code",
      "metadata": {
        "id": "lz3A128tcCCo"
      },
      "source": [
        "'''Function to calculate which of the two queried target_options appears more often in the sequence'''\r\n",
        "def calculate_target(target_options, sequence):\r\n",
        "  \r\n",
        "  first_target = np.sum(sequence == target_options[0])\r\n",
        "  second_target = np.sum(sequence == target_options[1])\r\n",
        "\r\n",
        "  #if the first target number appears more often or equally often as the second we will return 0\r\n",
        "  larger_sum = 0\r\n",
        "  if first_target < second_target:\r\n",
        "    larger_sum = 1\r\n",
        "\r\n",
        "  return larger_sum"
      ],
      "execution_count": null,
      "outputs": []
    },
    {
      "cell_type": "code",
      "metadata": {
        "colab": {
          "base_uri": "https://localhost:8080/"
        },
        "id": "zBFqJNEL35Do",
        "outputId": "7654c10b-7ffa-42af-f417-395183239185"
      },
      "source": [
        "gen = generate_data(1,3)\r\n",
        "for elem in gen.take(1):\r\n",
        "  print(elem)"
      ],
      "execution_count": null,
      "outputs": [
        {
          "output_type": "stream",
          "text": [
            "(<tf.Tensor: shape=(1, 3, 10), dtype=float32, numpy=\n",
            "array([[[0., 0., 1., 0., 0., 0., 0., 0., 0., 0.],\n",
            "        [0., 0., 0., 0., 1., 0., 0., 0., 0., 0.],\n",
            "        [0., 0., 0., 0., 0., 0., 1., 0., 0., 0.]]], dtype=float32)>, <tf.Tensor: shape=(1, 2, 10), dtype=float32, numpy=\n",
            "array([[[0., 0., 1., 0., 0., 0., 0., 0., 0., 0.],\n",
            "        [0., 0., 0., 0., 0., 0., 1., 0., 0., 0.]]], dtype=float32)>, <tf.Tensor: shape=(1,), dtype=int32, numpy=array([0], dtype=int32)>)\n"
          ],
          "name": "stdout"
        }
      ]
    },
    {
      "cell_type": "code",
      "metadata": {
        "id": "HPtqvt-ePnTm"
      },
      "source": [
        "#LSTM Cell\r\n",
        "class LSTMCell(tf.keras.layers.Layer):\r\n",
        "  def __init__(self, units):\r\n",
        "    super(LSTMCell, self).__init__()\r\n",
        "\r\n",
        "    #gates as dense layers with respective activation function\r\n",
        "    self.forget_gate = tf.keras.layers.Dense(units, activation = tf.keras.activations.sigmoid, bias_initializer='ones')\r\n",
        "    self.input_gate = tf.keras.layers.Dense(units, activation = tf.keras.activations.sigmoid)\r\n",
        "    self.output_gate = tf.keras.layers.Dense(units, activation = tf.keras.activations.sigmoid)\r\n",
        "    \r\n",
        "    #cell state candidates with tanh\r\n",
        "    self.candidates = tf.keras.layers.Dense(units, activation = tf.keras.activations.tanh)\r\n",
        "\r\n",
        "  def call(self, sequence, hidden_state, cell_state):\r\n",
        "    #concatenate input and hidden state\r\n",
        "    concat_input = tf.concat((tf.cast(hidden_state, dtype=tf.int32), tf.cast(sequence, dtype=tf.int32)), axis = 1)\r\n",
        "\r\n",
        "    #forget part of cell state\r\n",
        "    cell_state = cell_state * self.forget_gate(concat_input)\r\n",
        "\r\n",
        "    #compute update for cell state\r\n",
        "    update = self.input_gate(concat_input) * self.candidates(concat_input)\r\n",
        "    #use input gate and candidates to update cell state\r\n",
        "    cell_state = cell_state + update\r\n",
        "\r\n",
        "    #compute new hidden state\r\n",
        "    hidden_state = self.output_gate(concat_input) * tf.keras.activations.tanh(cell_state)\r\n",
        "\r\n",
        "    #ouput the hidden state\r\n",
        "    return hidden_state, cell_state"
      ],
      "execution_count": null,
      "outputs": []
    },
    {
      "cell_type": "code",
      "metadata": {
        "id": "8bXqIRSHP-et"
      },
      "source": [
        "class LSTM(tf.keras.Model):\r\n",
        "  def __init__(self):\r\n",
        "    super(LSTM, self).__init__()\r\n",
        "    self.cell = LSTMCell(units=2)\r\n",
        "\r\n",
        "    #initialize cell_state\r\n",
        "    self.cell_state = tf.zeros(shape=(BATCHSIZE, 2))\r\n",
        "    self.hidden_state = tf.zeros(shape =(BATCHSIZE, 2))\r\n",
        "    self.flatten = tf.keras.layers.Flatten()\r\n",
        "    #output which of the target numbers is more likely\r\n",
        "    self.read_out = tf.keras.layers.Dense(units=1, activation=tf.keras.activations.sigmoid)\r\n",
        "  \r\n",
        "  def call(self, data,query):\r\n",
        "    #sequence and query concatenation\r\n",
        "    for i in range(len(data[1])):\r\n",
        "      #concatenate each sequence element with the respective queries\r\n",
        "      x = tf.concat((data[:,i,:],tf.reshape(query,[32,20])),axis = 1)\r\n",
        "\r\n",
        "      if(i == 0):\r\n",
        "        current_hidden_state, current_cell_state = self.cell(x, self.hidden_state, self.cell_state)\r\n",
        "      current_hidden_state, current_cell_state = self.cell(x, current_hidden_state, current_cell_state)\r\n",
        "\r\n",
        "    x = self.flatten(current_hidden_state)\r\n",
        "    x = self.read_out(x)\r\n",
        "    return x"
      ],
      "execution_count": null,
      "outputs": []
    },
    {
      "cell_type": "code",
      "metadata": {
        "id": "unt9CmIoUUXX"
      },
      "source": [
        "def train_step(model, data, query, target, loss_function, optimizer):\r\n",
        "  \r\n",
        "  with tf.GradientTape() as tape:\r\n",
        "    prediction = model(data,query)\r\n",
        "\r\n",
        "    #calculate the loss \r\n",
        "    loss = loss_function(tf.squeeze(prediction), tf.cast(target, dtype=tf.float32)) # solved TypeError: Cannot convert 1e-07 to EagerTensor of dtype int32\r\n",
        "    #calculate the accuracy by moving along the vector of targets (per input)\r\n",
        "    accuracy = np.sum(np.abs((tf.cast(target, dtype=tf.float32)-tf.squeeze(prediction)))<0.5)/target.shape[0]\r\n",
        "    #calculate the gradients for the weights with respect to the loss\r\n",
        "    gradients = tape.gradient(loss, model.trainable_variables)\r\n",
        "\r\n",
        "  #update the weights\r\n",
        "  optimizer.apply_gradients(zip(gradients, model.trainable_variables))\r\n",
        "\r\n",
        "  return loss, accuracy"
      ],
      "execution_count": null,
      "outputs": []
    },
    {
      "cell_type": "code",
      "metadata": {
        "id": "zAuSmwEria-9"
      },
      "source": [
        "import time\r\n",
        "def timing(start):\r\n",
        "    now = time.time()\r\n",
        "    time_per_training_step = now - start\r\n",
        "    # compute duration of an epoch\r\n",
        "    return round(time_per_training_step, 2)"
      ],
      "execution_count": null,
      "outputs": []
    },
    {
      "cell_type": "code",
      "metadata": {
        "colab": {
          "base_uri": "https://localhost:8080/"
        },
        "id": "znqyJuXwc2R9",
        "outputId": "a851efc5-90de-45f3-c467-1eec92e75b55"
      },
      "source": [
        "#train\r\n",
        "tf.keras.backend.clear_session()\r\n",
        "\r\n",
        "#create data\r\n",
        "train_data = generate_data(60000,30)\r\n",
        "\r\n",
        "#model\r\n",
        "model = LSTM()\r\n",
        "\r\n",
        "#Define hyperparameters\r\n",
        "#How many training epochs do we perform\r\n",
        "epochs = 5\r\n",
        "#define the learning rate which influences the magnitude with which we update the models parameters\r\n",
        "learning_rate = 0.001\r\n",
        "loss_function = tf.keras.losses.MSE\r\n",
        "optimizer = tf.keras.optimizers.Adam(learning_rate)\r\n",
        "\r\n",
        "running_average_factor = 0.95\r\n",
        "\r\n",
        "steps = []\r\n",
        "train_losses = []\r\n",
        "train_accuracy = []\r\n",
        "\r\n",
        "for epoch in range(epochs):\r\n",
        "  print(epoch, \". epoch --------------------------------------------------------------------------------\")\r\n",
        "  steps.append(epoch)\r\n",
        "\r\n",
        "\r\n",
        "  start = time.time()\r\n",
        "  original_loss = 0\r\n",
        "  original_acc = 0\r\n",
        "  for data,query,target in train_data:\r\n",
        "    train_loss,train_acc = train_step(model, data, query, target, loss_function, optimizer)\r\n",
        "\r\n",
        "    original_loss = running_average_factor * original_loss + (1-running_average_factor) * train_loss\r\n",
        "    original_acc = running_average_factor * original_acc + (1-running_average_factor) * train_acc\r\n",
        "\r\n",
        "  train_losses.append(original_loss)\r\n",
        "  train_accuracy.append(original_acc)\r\n",
        "\r\n",
        "\r\n",
        "  print(f\"the training step and test evaluation took {timing(start)} seconds\")\r\n",
        "  #some sort of plotting\r\n",
        "  print(\"train_loss\", original_loss.numpy())\r\n",
        "  print(\"train accuracy\", original_acc)\r\n"
      ],
      "execution_count": null,
      "outputs": [
        {
          "output_type": "stream",
          "text": [
            "0 . epoch --------------------------------------------------------------------------------\n",
            "the training step and test evaluation took 185.41 seconds\n",
            "train_loss 0.23191383\n",
            "train accuracy 0.6283969569415837\n",
            "1 . epoch --------------------------------------------------------------------------------\n",
            "the training step and test evaluation took 182.8 seconds\n",
            "train_loss 0.22754252\n",
            "train accuracy 0.6354780465329194\n",
            "2 . epoch --------------------------------------------------------------------------------\n",
            "the training step and test evaluation took 180.12 seconds\n",
            "train_loss 0.22906043\n",
            "train accuracy 0.6297530676654249\n",
            "3 . epoch --------------------------------------------------------------------------------\n",
            "the training step and test evaluation took 180.17 seconds\n",
            "train_loss 0.2149879\n",
            "train accuracy 0.6617467184107219\n",
            "4 . epoch --------------------------------------------------------------------------------\n",
            "the training step and test evaluation took 179.12 seconds\n",
            "train_loss 0.21420978\n",
            "train accuracy 0.6690564069646223\n"
          ],
          "name": "stdout"
        }
      ]
    },
    {
      "cell_type": "code",
      "metadata": {
        "id": "LBVfSqw9dDDm"
      },
      "source": [
        ""
      ],
      "execution_count": null,
      "outputs": []
    },
    {
      "cell_type": "code",
      "metadata": {
        "id": "Q63t-jDYTqY8",
        "colab": {
          "base_uri": "https://localhost:8080/",
          "height": 279
        },
        "outputId": "dc01623e-fab1-45c9-948a-9838211f65d3"
      },
      "source": [
        "import matplotlib.pyplot as plt\r\n",
        "\r\n",
        "#do the visualization\r\n",
        "#test loss and training loss\r\n",
        "plt.figure()\r\n",
        "line1, = plt.plot(train_losses)\r\n",
        "line2, = plt.plot(train_accuracy)\r\n",
        "plt.xlabel(\"Training steps\")\r\n",
        "plt.legend((line1,line2),(\"loss\",\"accuracy\"))\r\n",
        "plt.show()\r\n"
      ],
      "execution_count": null,
      "outputs": [
        {
          "output_type": "display_data",
          "data": {
            "image/png": "[encoded data removed]",
            "text/plain": [
              "<Figure size 432x288 with 1 Axes>"
            ]
          },
          "metadata": {
            "tags": [],
            "needs_background": "light"
          }
        }
      ]
    },
    {
      "cell_type": "markdown",
      "metadata": {
        "id": "K2hEGXsH0Nmg"
      },
      "source": [
        "We assume that it is slowly going to increase with every additional epoch (as seen in this trend), due to timing constraints we were not able to train it for a longer time.\r\n",
        "\r\n",
        "We are pretty sure about our implementation but there might be a bug somewhere in the code anyway. After hours of debugging we feel that we have implemented the general idea and task and have thus completed it to the best of our abilities. "
      ]
    }
  ]
}